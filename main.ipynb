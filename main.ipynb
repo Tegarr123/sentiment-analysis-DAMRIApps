{
 "cells": [
  {
   "cell_type": "code",
   "execution_count": 24,
   "id": "a9f206d5",
   "metadata": {},
   "outputs": [],
   "source": [
    "from google_play_scraper import app, reviews_all\n",
    "\n",
    "result = reviews_all(app_id=\"com.simadamri.damriapps\",\n",
    "                     lang=\"en\",\n",
    "                     country=\"id\")"
   ]
  },
  {
   "cell_type": "code",
   "execution_count": 25,
   "id": "057d3f4a",
   "metadata": {},
   "outputs": [
    {
     "data": {
      "text/plain": [
       "1252"
      ]
     },
     "execution_count": 25,
     "metadata": {},
     "output_type": "execute_result"
    }
   ],
   "source": [
    "len(result)"
   ]
  }
 ],
 "metadata": {
  "kernelspec": {
   "display_name": "py11",
   "language": "python",
   "name": "python3"
  },
  "language_info": {
   "codemirror_mode": {
    "name": "ipython",
    "version": 3
   },
   "file_extension": ".py",
   "mimetype": "text/x-python",
   "name": "python",
   "nbconvert_exporter": "python",
   "pygments_lexer": "ipython3",
   "version": "3.11.13"
  }
 },
 "nbformat": 4,
 "nbformat_minor": 5
}
