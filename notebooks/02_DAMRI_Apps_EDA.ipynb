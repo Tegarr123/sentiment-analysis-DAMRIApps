{
 "cells": [
  {
   "cell_type": "code",
   "execution_count": 11,
   "id": "ad8db9f6",
   "metadata": {},
   "outputs": [
    {
     "name": "stderr",
     "output_type": "stream",
     "text": [
      "[nltk_data] Downloading package punkt to /home/fadhinotgr/nltk_data...\n",
      "[nltk_data]   Package punkt is already up-to-date!\n"
     ]
    },
    {
     "data": {
      "text/plain": [
       "True"
      ]
     },
     "execution_count": 11,
     "metadata": {},
     "output_type": "execute_result"
    }
   ],
   "source": [
    "import nltk\n",
    "from nltk.tokenize import word_tokenize\n",
    "import pandas as pd\n",
    "from Sastrawi.Stemmer import StemmerFactory\n",
    "nltk.download('punkt')"
   ]
  },
  {
   "cell_type": "code",
   "execution_count": 4,
   "id": "73c08264",
   "metadata": {},
   "outputs": [
    {
     "data": {
      "text/html": [
       "<div>\n",
       "<style scoped>\n",
       "    .dataframe tbody tr th:only-of-type {\n",
       "        vertical-align: middle;\n",
       "    }\n",
       "\n",
       "    .dataframe tbody tr th {\n",
       "        vertical-align: top;\n",
       "    }\n",
       "\n",
       "    .dataframe thead th {\n",
       "        text-align: right;\n",
       "    }\n",
       "</style>\n",
       "<table border=\"1\" class=\"dataframe\">\n",
       "  <thead>\n",
       "    <tr style=\"text-align: right;\">\n",
       "      <th></th>\n",
       "      <th>reviewId</th>\n",
       "      <th>userName</th>\n",
       "      <th>userImage</th>\n",
       "      <th>content</th>\n",
       "      <th>score</th>\n",
       "      <th>thumbsUpCount</th>\n",
       "      <th>reviewCreatedVersion</th>\n",
       "      <th>at</th>\n",
       "      <th>replyContent</th>\n",
       "      <th>repliedAt</th>\n",
       "      <th>appVersion</th>\n",
       "    </tr>\n",
       "  </thead>\n",
       "  <tbody>\n",
       "    <tr>\n",
       "      <th>0</th>\n",
       "      <td>40d9be67-446b-4f01-bade-69402486a73f</td>\n",
       "      <td>Pengguna Google</td>\n",
       "      <td>https://play-lh.googleusercontent.com/EGemoI2N...</td>\n",
       "      <td>ini kenapa nik saya gk bisa buat daftar</td>\n",
       "      <td>3</td>\n",
       "      <td>0</td>\n",
       "      <td>NaN</td>\n",
       "      <td>2025-08-31 07:00:03</td>\n",
       "      <td>NaN</td>\n",
       "      <td>NaN</td>\n",
       "      <td>NaN</td>\n",
       "    </tr>\n",
       "    <tr>\n",
       "      <th>1</th>\n",
       "      <td>96083080-3be1-4913-8b97-cf1ea6b9b154</td>\n",
       "      <td>Pengguna Google</td>\n",
       "      <td>https://play-lh.googleusercontent.com/EGemoI2N...</td>\n",
       "      <td>sangat membantu</td>\n",
       "      <td>5</td>\n",
       "      <td>0</td>\n",
       "      <td>NaN</td>\n",
       "      <td>2025-08-29 18:59:40</td>\n",
       "      <td>NaN</td>\n",
       "      <td>NaN</td>\n",
       "      <td>NaN</td>\n",
       "    </tr>\n",
       "    <tr>\n",
       "      <th>2</th>\n",
       "      <td>be035b28-c691-44db-994d-ace5a28d6711</td>\n",
       "      <td>Pengguna Google</td>\n",
       "      <td>https://play-lh.googleusercontent.com/EGemoI2N...</td>\n",
       "      <td>Abis update aplikasi kok malah lemot banget ap...</td>\n",
       "      <td>1</td>\n",
       "      <td>0</td>\n",
       "      <td>4.5.1</td>\n",
       "      <td>2025-08-28 18:51:45</td>\n",
       "      <td>NaN</td>\n",
       "      <td>NaN</td>\n",
       "      <td>4.5.1</td>\n",
       "    </tr>\n",
       "    <tr>\n",
       "      <th>3</th>\n",
       "      <td>591f310d-7221-410a-b0c0-9ec7a1698df0</td>\n",
       "      <td>Pengguna Google</td>\n",
       "      <td>https://play-lh.googleusercontent.com/EGemoI2N...</td>\n",
       "      <td>nyaman</td>\n",
       "      <td>5</td>\n",
       "      <td>0</td>\n",
       "      <td>4.4.5</td>\n",
       "      <td>2025-08-28 14:39:02</td>\n",
       "      <td>NaN</td>\n",
       "      <td>NaN</td>\n",
       "      <td>4.4.5</td>\n",
       "    </tr>\n",
       "    <tr>\n",
       "      <th>4</th>\n",
       "      <td>1e4ff302-e435-44f0-9544-06b7b3dc3713</td>\n",
       "      <td>Pengguna Google</td>\n",
       "      <td>https://play-lh.googleusercontent.com/EGemoI2N...</td>\n",
       "      <td>tepat waktu</td>\n",
       "      <td>5</td>\n",
       "      <td>0</td>\n",
       "      <td>NaN</td>\n",
       "      <td>2025-08-28 07:56:48</td>\n",
       "      <td>NaN</td>\n",
       "      <td>NaN</td>\n",
       "      <td>NaN</td>\n",
       "    </tr>\n",
       "  </tbody>\n",
       "</table>\n",
       "</div>"
      ],
      "text/plain": [
       "                               reviewId         userName  \\\n",
       "0  40d9be67-446b-4f01-bade-69402486a73f  Pengguna Google   \n",
       "1  96083080-3be1-4913-8b97-cf1ea6b9b154  Pengguna Google   \n",
       "2  be035b28-c691-44db-994d-ace5a28d6711  Pengguna Google   \n",
       "3  591f310d-7221-410a-b0c0-9ec7a1698df0  Pengguna Google   \n",
       "4  1e4ff302-e435-44f0-9544-06b7b3dc3713  Pengguna Google   \n",
       "\n",
       "                                           userImage  \\\n",
       "0  https://play-lh.googleusercontent.com/EGemoI2N...   \n",
       "1  https://play-lh.googleusercontent.com/EGemoI2N...   \n",
       "2  https://play-lh.googleusercontent.com/EGemoI2N...   \n",
       "3  https://play-lh.googleusercontent.com/EGemoI2N...   \n",
       "4  https://play-lh.googleusercontent.com/EGemoI2N...   \n",
       "\n",
       "                                             content  score  thumbsUpCount  \\\n",
       "0            ini kenapa nik saya gk bisa buat daftar      3              0   \n",
       "1                                    sangat membantu      5              0   \n",
       "2  Abis update aplikasi kok malah lemot banget ap...      1              0   \n",
       "3                                             nyaman      5              0   \n",
       "4                                        tepat waktu      5              0   \n",
       "\n",
       "  reviewCreatedVersion                   at replyContent repliedAt appVersion  \n",
       "0                  NaN  2025-08-31 07:00:03          NaN       NaN        NaN  \n",
       "1                  NaN  2025-08-29 18:59:40          NaN       NaN        NaN  \n",
       "2                4.5.1  2025-08-28 18:51:45          NaN       NaN      4.5.1  \n",
       "3                4.4.5  2025-08-28 14:39:02          NaN       NaN      4.4.5  \n",
       "4                  NaN  2025-08-28 07:56:48          NaN       NaN        NaN  "
      ]
     },
     "execution_count": 4,
     "metadata": {},
     "output_type": "execute_result"
    }
   ],
   "source": [
    "# Load Data\n",
    "df_damri = pd.read_csv(\"../data/damri_apps_reviews.csv\")\n",
    "df_damri.head()"
   ]
  },
  {
   "cell_type": "code",
   "execution_count": 7,
   "id": "1470574d",
   "metadata": {},
   "outputs": [],
   "source": [
    "tokens_series = list(map(word_tokenize, df_damri['content']))\n",
    "tokens = [item for sublist in tokens_series for item in sublist]"
   ]
  },
  {
   "cell_type": "code",
   "execution_count": 10,
   "id": "bcb685fb",
   "metadata": {},
   "outputs": [
    {
     "name": "stdout",
     "output_type": "stream",
     "text": [
      "First 20 tokens: ['ini', 'kenapa', 'nik', 'saya', 'gk', 'bisa', 'buat', 'daftar', 'sangat', 'membantu', 'Abis', 'update', 'aplikasi', 'kok', 'malah', 'lemot', 'banget', 'aplikasinya', 'nyaman', 'tepat']\n",
      "Total tokens: 83181\n",
      "Unique tokens: 9603\n"
     ]
    }
   ],
   "source": [
    "# # Print first 20 tokens\n",
    "print(\"First 20 tokens:\", tokens[:20])\n",
    "\n",
    "# # Basic statistics\n",
    "print(\"Total tokens:\", len(tokens))\n",
    "print(\"Unique tokens:\", len(set(tokens)))"
   ]
  },
  {
   "cell_type": "code",
   "execution_count": 12,
   "id": "c37ae0a4",
   "metadata": {},
   "outputs": [
    {
     "name": "stdout",
     "output_type": "stream",
     "text": [
      "Teks Asli: ini kenapa nik saya gk bisa buat daftar\n",
      "Token: ['ini', 'kenapa', 'nik', 'saya', 'gk', 'bisa', 'buat', 'daftar']\n",
      "Jumlah Token: 8\n",
      "Token Unik: 8\n",
      "Token setelah Stemming: ['ini', 'kenapa', 'nik', 'saya', 'gk', 'bisa', 'buat', 'daftar']\n",
      "Jumlah Token setelah Stemming: 8\n",
      "Token disimpan ke tokens_sample_1.txt\n",
      "Teks Asli: sangat membantu\n",
      "Token: ['sangat', 'membantu']\n",
      "Jumlah Token: 2\n",
      "Token Unik: 2\n",
      "Token setelah Stemming: ['sangat', 'bantu']\n",
      "Jumlah Token setelah Stemming: 2\n",
      "Token disimpan ke tokens_sample_2.txt\n",
      "Teks Asli: Abis update aplikasi kok malah lemot banget aplikasinya\n",
      "Token: ['Abis', 'update', 'aplikasi', 'kok', 'malah', 'lemot', 'banget', 'aplikasinya']\n",
      "Jumlah Token: 8\n",
      "Token Unik: 8\n",
      "Token setelah Stemming: ['abis', 'update', 'aplikasi', 'kok', 'malah', 'lot', 'banget', 'aplikasi']\n",
      "Jumlah Token setelah Stemming: 8\n",
      "Token disimpan ke tokens_sample_3.txt\n",
      "Teks Asli: nyaman\n",
      "Token: ['nyaman']\n",
      "Jumlah Token: 1\n",
      "Token Unik: 1\n",
      "Token setelah Stemming: ['nyaman']\n",
      "Jumlah Token setelah Stemming: 1\n",
      "Token disimpan ke tokens_sample_4.txt\n",
      "Teks Asli: tepat waktu\n",
      "Token: ['tepat', 'waktu']\n",
      "Jumlah Token: 2\n",
      "Token Unik: 2\n",
      "Token setelah Stemming: ['tepat', 'waktu']\n",
      "Jumlah Token setelah Stemming: 2\n",
      "Token disimpan ke tokens_sample_5.txt\n"
     ]
    }
   ],
   "source": [
    "stemmer = StemmerFactory.StemmerFactory().create_stemmer()\n",
    "\n",
    "for i, text in enumerate(df_damri['content'][:5]):\n",
    "    print(\"Teks Asli:\", text)\n",
    "    \n",
    "    # Tokenisasi\n",
    "    tokens = word_tokenize(text)\n",
    "    print(\"Token:\", tokens)\n",
    "    print(\"Jumlah Token:\", len(tokens))\n",
    "    print(\"Token Unik:\", len(set(tokens)))\n",
    "    \n",
    "    # Stemming (opsional untuk analisis)\n",
    "    stemmed_text = stemmer.stem(text)\n",
    "    stemmed_tokens = word_tokenize(stemmed_text)\n",
    "    print(\"Token setelah Stemming:\", stemmed_tokens)\n",
    "    print(\"Jumlah Token setelah Stemming:\", len(stemmed_tokens))\n",
    "    \n",
    "    # Simpan token ke file\n",
    "    with open(f'tokens_sample_{i+1}.txt', 'w', encoding='utf-8') as f:\n",
    "        f.write('\\n'.join(tokens))\n",
    "    print(f\"Token disimpan ke tokens_sample_{i+1}.txt\")"
   ]
  }
 ],
 "metadata": {
  "kernelspec": {
   "display_name": "py11",
   "language": "python",
   "name": "python3"
  },
  "language_info": {
   "codemirror_mode": {
    "name": "ipython",
    "version": 3
   },
   "file_extension": ".py",
   "mimetype": "text/x-python",
   "name": "python",
   "nbconvert_exporter": "python",
   "pygments_lexer": "ipython3",
   "version": "3.11.13"
  }
 },
 "nbformat": 4,
 "nbformat_minor": 5
}
