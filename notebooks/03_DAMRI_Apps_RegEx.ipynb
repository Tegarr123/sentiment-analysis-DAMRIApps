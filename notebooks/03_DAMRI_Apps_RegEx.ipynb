{
 "cells": [
  {
   "cell_type": "code",
   "execution_count": 345,
   "id": "a56c7908",
   "metadata": {},
   "outputs": [],
   "source": [
    "import pandas as pd\n",
    "import re"
   ]
  },
  {
   "cell_type": "code",
   "execution_count": 346,
   "id": "3eda7876",
   "metadata": {},
   "outputs": [
    {
     "data": {
      "text/html": [
       "<div>\n",
       "<style scoped>\n",
       "    .dataframe tbody tr th:only-of-type {\n",
       "        vertical-align: middle;\n",
       "    }\n",
       "\n",
       "    .dataframe tbody tr th {\n",
       "        vertical-align: top;\n",
       "    }\n",
       "\n",
       "    .dataframe thead th {\n",
       "        text-align: right;\n",
       "    }\n",
       "</style>\n",
       "<table border=\"1\" class=\"dataframe\">\n",
       "  <thead>\n",
       "    <tr style=\"text-align: right;\">\n",
       "      <th></th>\n",
       "      <th>content</th>\n",
       "      <th>cleaned_text</th>\n",
       "      <th>tokenized_raw_text</th>\n",
       "      <th>tokenized_preprocessed_text</th>\n",
       "      <th>score</th>\n",
       "      <th>thumbsUpCount</th>\n",
       "      <th>reviewCreatedVersion</th>\n",
       "      <th>at</th>\n",
       "      <th>replyContent</th>\n",
       "      <th>repliedAt</th>\n",
       "    </tr>\n",
       "  </thead>\n",
       "  <tbody>\n",
       "    <tr>\n",
       "      <th>0</th>\n",
       "      <td>gabisa beli tiket jir</td>\n",
       "      <td>gabisa beli tiket jir</td>\n",
       "      <td>['gabisa', 'beli', 'tiket', 'jir']</td>\n",
       "      <td>['gabisa', 'beli', 'tiket', 'jir']</td>\n",
       "      <td>1</td>\n",
       "      <td>0</td>\n",
       "      <td>4.5.2</td>\n",
       "      <td>2025-09-04 11:13:20</td>\n",
       "      <td>NaN</td>\n",
       "      <td>NaN</td>\n",
       "    </tr>\n",
       "    <tr>\n",
       "      <th>1</th>\n",
       "      <td>good banget,simple dengan pemesanan tiket via ...</td>\n",
       "      <td>good bangetsimple mesan tiket via aplikasi adm...</td>\n",
       "      <td>['good', 'bangetsimple', 'dengan', 'pemesanan'...</td>\n",
       "      <td>['good', 'bangetsimple', 'mesan', 'tiket', 'vi...</td>\n",
       "      <td>5</td>\n",
       "      <td>0</td>\n",
       "      <td>4.5.2</td>\n",
       "      <td>2025-09-03 06:31:04</td>\n",
       "      <td>NaN</td>\n",
       "      <td>NaN</td>\n",
       "    </tr>\n",
       "    <tr>\n",
       "      <th>2</th>\n",
       "      <td>mau ngecek ongkir kirim paket ga tersedia.. pa...</td>\n",
       "      <td>mau ngecek ongkir kirim paket tidak sedia pada...</td>\n",
       "      <td>['mau', 'ngecek', 'ongkir', 'kirim', 'paket', ...</td>\n",
       "      <td>['mau', 'ngecek', 'ongkir', 'kirim', 'paket', ...</td>\n",
       "      <td>1</td>\n",
       "      <td>0</td>\n",
       "      <td>4.5.2</td>\n",
       "      <td>2025-09-02 17:06:03</td>\n",
       "      <td>NaN</td>\n",
       "      <td>NaN</td>\n",
       "    </tr>\n",
       "    <tr>\n",
       "      <th>3</th>\n",
       "      <td>nyaman banget naik bus damri dari jagakarsa ke...</td>\n",
       "      <td>nyaman banget naik bus damri jagakarsa airport...</td>\n",
       "      <td>['nyaman', 'banget', 'naik', 'bus', 'damri', '...</td>\n",
       "      <td>['nyaman', 'banget', 'naik', 'bus', 'damri', '...</td>\n",
       "      <td>5</td>\n",
       "      <td>0</td>\n",
       "      <td>4.5.1</td>\n",
       "      <td>2025-09-02 07:13:14</td>\n",
       "      <td>NaN</td>\n",
       "      <td>NaN</td>\n",
       "    </tr>\n",
       "    <tr>\n",
       "      <th>4</th>\n",
       "      <td>ini kenapa nik saya gk bisa buat daftar</td>\n",
       "      <td>kenapa nik tidak buat daftar</td>\n",
       "      <td>['ini', 'kenapa', 'nik', 'saya', 'gk', 'bisa',...</td>\n",
       "      <td>['kenapa', 'nik', 'tidak', 'buat', 'daftar']</td>\n",
       "      <td>3</td>\n",
       "      <td>0</td>\n",
       "      <td>NaN</td>\n",
       "      <td>2025-08-31 07:00:03</td>\n",
       "      <td>NaN</td>\n",
       "      <td>NaN</td>\n",
       "    </tr>\n",
       "  </tbody>\n",
       "</table>\n",
       "</div>"
      ],
      "text/plain": [
       "                                             content  \\\n",
       "0                              gabisa beli tiket jir   \n",
       "1  good banget,simple dengan pemesanan tiket via ...   \n",
       "2  mau ngecek ongkir kirim paket ga tersedia.. pa...   \n",
       "3  nyaman banget naik bus damri dari jagakarsa ke...   \n",
       "4            ini kenapa nik saya gk bisa buat daftar   \n",
       "\n",
       "                                        cleaned_text  \\\n",
       "0                              gabisa beli tiket jir   \n",
       "1  good bangetsimple mesan tiket via aplikasi adm...   \n",
       "2  mau ngecek ongkir kirim paket tidak sedia pada...   \n",
       "3  nyaman banget naik bus damri jagakarsa airport...   \n",
       "4                       kenapa nik tidak buat daftar   \n",
       "\n",
       "                                  tokenized_raw_text  \\\n",
       "0                 ['gabisa', 'beli', 'tiket', 'jir']   \n",
       "1  ['good', 'bangetsimple', 'dengan', 'pemesanan'...   \n",
       "2  ['mau', 'ngecek', 'ongkir', 'kirim', 'paket', ...   \n",
       "3  ['nyaman', 'banget', 'naik', 'bus', 'damri', '...   \n",
       "4  ['ini', 'kenapa', 'nik', 'saya', 'gk', 'bisa',...   \n",
       "\n",
       "                         tokenized_preprocessed_text  score  thumbsUpCount  \\\n",
       "0                 ['gabisa', 'beli', 'tiket', 'jir']      1              0   \n",
       "1  ['good', 'bangetsimple', 'mesan', 'tiket', 'vi...      5              0   \n",
       "2  ['mau', 'ngecek', 'ongkir', 'kirim', 'paket', ...      1              0   \n",
       "3  ['nyaman', 'banget', 'naik', 'bus', 'damri', '...      5              0   \n",
       "4       ['kenapa', 'nik', 'tidak', 'buat', 'daftar']      3              0   \n",
       "\n",
       "  reviewCreatedVersion                   at replyContent repliedAt  \n",
       "0                4.5.2  2025-09-04 11:13:20          NaN       NaN  \n",
       "1                4.5.2  2025-09-03 06:31:04          NaN       NaN  \n",
       "2                4.5.2  2025-09-02 17:06:03          NaN       NaN  \n",
       "3                4.5.1  2025-09-02 07:13:14          NaN       NaN  \n",
       "4                  NaN  2025-08-31 07:00:03          NaN       NaN  "
      ]
     },
     "execution_count": 346,
     "metadata": {},
     "output_type": "execute_result"
    }
   ],
   "source": [
    "df_damri = pd.read_csv('../data/damri_apps_preprocessed.csv')\n",
    "df_damri.head()"
   ]
  },
  {
   "cell_type": "code",
   "execution_count": 347,
   "id": "90a80c1f",
   "metadata": {},
   "outputs": [],
   "source": [
    "df_damri['cleaned_text'].fillna('', inplace=True)"
   ]
  },
  {
   "cell_type": "markdown",
   "id": "203b9bdc",
   "metadata": {},
   "source": [
    "### Word 'bantu'"
   ]
  },
  {
   "cell_type": "code",
   "execution_count": 348,
   "id": "725c67fc",
   "metadata": {},
   "outputs": [],
   "source": [
    "all_bantu = set()"
   ]
  },
  {
   "cell_type": "code",
   "execution_count": 349,
   "id": "6802f776",
   "metadata": {},
   "outputs": [],
   "source": [
    "pattern = r'\\b\\w*bantu\\w*\\b'\n",
    "\n",
    "for text in df_damri['cleaned_text']:\n",
    "    matches = re.findall(pattern, text)\n",
    "    all_bantu.update(matches)"
   ]
  },
  {
   "cell_type": "code",
   "execution_count": 350,
   "id": "2819a2d4",
   "metadata": {},
   "outputs": [
    {
     "data": {
      "text/plain": [
       "{'bagusmembantu',\n",
       " 'bantu',\n",
       " 'bantuanx',\n",
       " 'bantuanya',\n",
       " 'bantuin',\n",
       " 'bantul',\n",
       " 'mambantu',\n",
       " 'membantuberkat',\n",
       " 'membantubuat',\n",
       " 'membantucm',\n",
       " 'membantudan',\n",
       " 'membantuga',\n",
       " 'membantugood',\n",
       " 'membantujadi',\n",
       " 'membantukita',\n",
       " 'membantumantap',\n",
       " 'membantunamun',\n",
       " 'membantupelanggan',\n",
       " 'membantupulang',\n",
       " 'membantusukses',\n",
       " 'membantutapi',\n",
       " 'membantuterima',\n",
       " 'membantutp',\n",
       " 'menbantu',\n",
       " 'ngebantu',\n",
       " 'ngebantuuu'}"
      ]
     },
     "execution_count": 350,
     "metadata": {},
     "output_type": "execute_result"
    }
   ],
   "source": [
    "all_bantu"
   ]
  },
  {
   "cell_type": "code",
   "execution_count": 351,
   "id": "db3ac830",
   "metadata": {},
   "outputs": [],
   "source": [
    "# We need to clean the word bantu\n",
    "# change membantu to bantu\n",
    "\n",
    "def membantu_to_bantu(text):\n",
    "    return re.sub(r'(m(a|e)(m|n)bantu|ngebantu|bantu)(l|u*)', 'bantu', text)\n",
    "df_damri['cleaned_text'] = df_damri['cleaned_text'].apply(membantu_to_bantu)"
   ]
  },
  {
   "cell_type": "code",
   "execution_count": 352,
   "id": "2d6d0761",
   "metadata": {},
   "outputs": [],
   "source": [
    "# sepaarte bantu to its own word\n",
    "def separate_bantu(text):\n",
    "    separated = re.sub(r'bantu', ' bantu ', text)\n",
    "    separated = re.sub(r'\\s+', ' ', separated)  # Remove extra spaces\n",
    "    return separated.strip()\n",
    "df_damri['cleaned_text'] = df_damri['cleaned_text'].apply(separate_bantu)"
   ]
  },
  {
   "cell_type": "markdown",
   "id": "1de208d0",
   "metadata": {},
   "source": [
    "### Word aplikasi"
   ]
  },
  {
   "cell_type": "code",
   "execution_count": 353,
   "id": "3f6f865c",
   "metadata": {},
   "outputs": [],
   "source": [
    "all_aplikasi = set()"
   ]
  },
  {
   "cell_type": "code",
   "execution_count": 354,
   "id": "fef3fd09",
   "metadata": {},
   "outputs": [],
   "source": [
    "pattern = r'(\\b\\w*aplikasi\\w*\\b)'\n",
    "\n",
    "for text in df_damri['cleaned_text']:\n",
    "    matches = re.findall(pattern, text)\n",
    "    all_aplikasi.update(matches)"
   ]
  },
  {
   "cell_type": "code",
   "execution_count": 355,
   "id": "45147e94",
   "metadata": {},
   "outputs": [
    {
     "data": {
      "text/plain": [
       "{'adaplikasi',\n",
       " 'amanahaplikasi',\n",
       " 'anjiraplikasinya',\n",
       " 'aplikasi',\n",
       " 'aplikasibaru',\n",
       " 'aplikasih',\n",
       " 'aplikasimalah',\n",
       " 'aplikasiminta',\n",
       " 'aplikasimya',\n",
       " 'aplikasina',\n",
       " 'aplikasinta',\n",
       " 'aplikasiny',\n",
       " 'aplikasinyaa',\n",
       " 'aplikasinyabagus',\n",
       " 'aplikasinyabiar',\n",
       " 'aplikasinyamuterrr',\n",
       " 'aplikasinyasusah',\n",
       " 'aplikasinyaterima',\n",
       " 'aplikasinye',\n",
       " 'aplikasipdhal',\n",
       " 'aplikasipk',\n",
       " 'aplikasirealnya',\n",
       " 'baikaplikasi',\n",
       " 'bermasalahaplikasi',\n",
       " 'duluaplikasi',\n",
       " 'tiketaplikasi'}"
      ]
     },
     "execution_count": 355,
     "metadata": {},
     "output_type": "execute_result"
    }
   ],
   "source": [
    "all_aplikasi"
   ]
  },
  {
   "cell_type": "code",
   "execution_count": 356,
   "id": "49470d6c",
   "metadata": {},
   "outputs": [],
   "source": [
    "# clean aplikasi\n",
    "def clean_aplikasi(text):\n",
    "    return re.sub('aplikasi\\w{0,2}\\s', 'aplikasi ', text)\n",
    "df_damri['cleaned_text'] = df_damri['cleaned_text'].apply(clean_aplikasi)"
   ]
  },
  {
   "cell_type": "code",
   "execution_count": 357,
   "id": "620b88e4",
   "metadata": {},
   "outputs": [],
   "source": [
    "# Separate aplikasi\n",
    "def separate_aplikasi(text):\n",
    "    separated = re.sub(r'aplikasi', ' aplikasi ', text)\n",
    "    separated = re.sub(r'\\s+', ' ', separated)  # Remove extra spaces\n",
    "    return separated.strip()\n",
    "df_damri['cleaned_text'] = df_damri['cleaned_text'].apply(separate_aplikasi)"
   ]
  },
  {
   "cell_type": "markdown",
   "id": "ff6190ad",
   "metadata": {},
   "source": [
    "### Word 'damri'"
   ]
  },
  {
   "cell_type": "code",
   "execution_count": 358,
   "id": "5003ddb8",
   "metadata": {},
   "outputs": [],
   "source": [
    "all_damri = set()"
   ]
  },
  {
   "cell_type": "code",
   "execution_count": 359,
   "id": "fde14450",
   "metadata": {},
   "outputs": [],
   "source": [
    "pattern = r'\\b\\w*damri\\w*\\b'\n",
    "\n",
    "for text in df_damri['cleaned_text']:\n",
    "    matches = re.findall(pattern, text)\n",
    "    all_damri.update(matches)"
   ]
  },
  {
   "cell_type": "code",
   "execution_count": 360,
   "id": "dae9ce7e",
   "metadata": {},
   "outputs": [
    {
     "data": {
      "text/plain": [
       "{'damri',\n",
       " 'damriby',\n",
       " 'damridan',\n",
       " 'damridgn',\n",
       " 'damrigak',\n",
       " 'damriii',\n",
       " 'damriiii',\n",
       " 'damrikalo',\n",
       " 'damrikendaraan',\n",
       " 'damrikrna',\n",
       " 'damriku',\n",
       " 'damrilebih',\n",
       " 'damrimaju',\n",
       " 'damrimasalah',\n",
       " 'damrin',\n",
       " 'damrinapalaginudah',\n",
       " 'damrinya',\n",
       " 'damripembelian',\n",
       " 'damrirute',\n",
       " 'damrismoga',\n",
       " 'damrisy',\n",
       " 'damritakutnya',\n",
       " 'damritinggal',\n",
       " 'damritpi',\n",
       " 'didamri',\n",
       " 'kasihdamri',\n",
       " 'pelanggandamri',\n",
       " 'pooldamri'}"
      ]
     },
     "execution_count": 360,
     "metadata": {},
     "output_type": "execute_result"
    }
   ],
   "source": [
    "all_damri"
   ]
  },
  {
   "cell_type": "code",
   "execution_count": 361,
   "id": "824e638a",
   "metadata": {},
   "outputs": [],
   "source": [
    "# Seperate damri\n",
    "def separate_damri(text):\n",
    "    separated = re.sub(r'damri', ' damri ', text)\n",
    "    separated = re.sub(r'\\s+', ' ', separated)  # Remove extra spaces\n",
    "    return separated.strip()\n",
    "df_damri['cleaned_text'] = df_damri['cleaned_text'].apply(separate_damri)"
   ]
  },
  {
   "cell_type": "markdown",
   "id": "42e30a92",
   "metadata": {},
   "source": [
    "### Word daftar"
   ]
  },
  {
   "cell_type": "code",
   "execution_count": 362,
   "id": "1f431880",
   "metadata": {},
   "outputs": [],
   "source": [
    "all_daftar = set()"
   ]
  },
  {
   "cell_type": "code",
   "execution_count": 363,
   "id": "2270fded",
   "metadata": {},
   "outputs": [],
   "source": [
    "pattern = r'\\b\\w*daftar\\w*\\b'\n",
    "\n",
    "for text in df_damri['cleaned_text']:\n",
    "    matches = re.findall(pattern, text)\n",
    "    all_daftar.update(matches)"
   ]
  },
  {
   "cell_type": "code",
   "execution_count": 364,
   "id": "a75cdf8c",
   "metadata": {},
   "outputs": [
    {
     "data": {
      "text/plain": [
       "{'daftar',\n",
       " 'daftarin',\n",
       " 'daftarkode',\n",
       " 'daftarloginsearching',\n",
       " 'daftarmasuk',\n",
       " 'daftarpas',\n",
       " 'daftarsign',\n",
       " 'mndaftar',\n",
       " 'sihdaftar',\n",
       " 'terdaftarbagaimana',\n",
       " 'terdaftargak',\n",
       " 'terdaftarganti',\n",
       " 'terdaftarterus'}"
      ]
     },
     "execution_count": 364,
     "metadata": {},
     "output_type": "execute_result"
    }
   ],
   "source": [
    "all_daftar"
   ]
  },
  {
   "cell_type": "code",
   "execution_count": 365,
   "id": "f238dc85",
   "metadata": {},
   "outputs": [],
   "source": [
    "# Change men-, ter to base\n",
    "def clean_daftar(text):\n",
    "    return re.sub(r'(m(a|e)(m|n)daftar|terdaftar|ndaftar|daftar)(in)?', 'daftar', text)\n",
    "df_damri['cleaned_text'] = df_damri['cleaned_text'].apply(clean_daftar)"
   ]
  },
  {
   "cell_type": "code",
   "execution_count": 366,
   "id": "39c56604",
   "metadata": {},
   "outputs": [],
   "source": [
    "# separate daftar\n",
    "def separate_daftar(text):\n",
    "    separated = re.sub(r'daftar', ' daftar ', text)\n",
    "    separated = re.sub(r'\\s+', ' ', separated)  # Remove extra spaces\n",
    "    return separated.strip()\n",
    "df_damri['cleaned_text'] = df_damri['cleaned_text'].apply(separate_daftar)"
   ]
  },
  {
   "cell_type": "markdown",
   "id": "ad05917d",
   "metadata": {},
   "source": [
    "### Word 'bayar'"
   ]
  },
  {
   "cell_type": "code",
   "execution_count": 367,
   "id": "a17ee630",
   "metadata": {},
   "outputs": [],
   "source": [
    "all_bayar = set()"
   ]
  },
  {
   "cell_type": "code",
   "execution_count": 368,
   "id": "a82ae1bc",
   "metadata": {},
   "outputs": [],
   "source": [
    "pattern = r'\\b\\w*bayar\\w*\\b'\n",
    "\n",
    "for text in df_damri['cleaned_text']:\n",
    "    matches = re.findall(pattern, text)\n",
    "    all_bayar.update(matches)"
   ]
  },
  {
   "cell_type": "code",
   "execution_count": 369,
   "id": "3515943c",
   "metadata": {},
   "outputs": [
    {
     "data": {
      "text/plain": [
       "{'bayar',\n",
       " 'bayarmalah',\n",
       " 'inibayar',\n",
       " 'miminpembayarannya',\n",
       " 'pembayaranpilihan',\n",
       " 'pembayarantidak',\n",
       " 'pembayaranya',\n",
       " 'pembayarn',\n",
       " 'pesankanbelibayar'}"
      ]
     },
     "execution_count": 369,
     "metadata": {},
     "output_type": "execute_result"
    }
   ],
   "source": [
    "all_bayar"
   ]
  },
  {
   "cell_type": "code",
   "execution_count": 370,
   "id": "7328c26d",
   "metadata": {},
   "outputs": [],
   "source": [
    "# change pembayaran to bayar\n",
    "def change_bayar(text):\n",
    "    return re.sub(\"pe?mbayara?n\", \"bayar\", text)\n",
    "df_damri['cleaned_text'] = df_damri['cleaned_text'].apply(change_bayar)"
   ]
  },
  {
   "cell_type": "code",
   "execution_count": 371,
   "id": "d6f40ebd",
   "metadata": {},
   "outputs": [],
   "source": [
    "# separate bayar\n",
    "def separate_bayar(text):\n",
    "    separated = re.sub(r'bayar', ' bayar ', text)\n",
    "    separated = re.sub(r'\\s+', ' ', separated)  # Remove extra spaces\n",
    "    return separated.strip()\n",
    "df_damri['cleaned_text'] = df_damri['cleaned_text'].apply(separate_bayar)"
   ]
  },
  {
   "cell_type": "markdown",
   "id": "77d02b61",
   "metadata": {},
   "source": [
    "### Word 'tiket'"
   ]
  },
  {
   "cell_type": "code",
   "execution_count": 380,
   "id": "3a77322e",
   "metadata": {},
   "outputs": [],
   "source": [
    "all_tiket = set()"
   ]
  },
  {
   "cell_type": "code",
   "execution_count": 381,
   "id": "0124a68a",
   "metadata": {},
   "outputs": [],
   "source": [
    "pattern = r'\\b\\w*tiket\\w*\\b'\n",
    "\n",
    "for text in df_damri['cleaned_text']:\n",
    "    matches = re.findall(pattern, text)\n",
    "    all_tiket.update(matches)"
   ]
  },
  {
   "cell_type": "code",
   "execution_count": 382,
   "id": "4480312c",
   "metadata": {},
   "outputs": [
    {
     "data": {
      "text/plain": [
       "{'tiket'}"
      ]
     },
     "execution_count": 382,
     "metadata": {},
     "output_type": "execute_result"
    }
   ],
   "source": [
    "all_tiket"
   ]
  },
  {
   "cell_type": "code",
   "execution_count": 383,
   "id": "f2b333e3",
   "metadata": {},
   "outputs": [],
   "source": [
    "# clean tiket\n",
    "def clean_tiket(text):\n",
    "    result = re.sub(\"\\s\\w{0,2}tiket\\w{0,2}\\s\", \" tiket \", \" \"+text+\" \")\n",
    "    result = re.sub(r'\\s+', ' ', result)\n",
    "    return result\n",
    "df_damri['cleaned_text'] = df_damri['cleaned_text'].apply(clean_tiket)"
   ]
  },
  {
   "cell_type": "code",
   "execution_count": 384,
   "id": "44bd1871",
   "metadata": {},
   "outputs": [],
   "source": [
    "# separate tiket\n",
    "def separate_tiket(text):\n",
    "    separated = re.sub(r'tiket', ' tiket ', text)\n",
    "    separated = re.sub(r'\\s+', ' ', separated)  # Remove extra spaces\n",
    "    return separated.strip()\n",
    "df_damri['cleaned_text'] = df_damri['cleaned_text'].apply(separate_tiket)"
   ]
  },
  {
   "cell_type": "markdown",
   "id": "742ce0f9",
   "metadata": {},
   "source": [
    "### to csv"
   ]
  },
  {
   "cell_type": "code",
   "execution_count": 385,
   "id": "4d3b3b5c",
   "metadata": {},
   "outputs": [],
   "source": [
    "df_damri.to_csv('../data/damri_apps_preprocessed.csv')"
   ]
  }
 ],
 "metadata": {
  "kernelspec": {
   "display_name": "py11",
   "language": "python",
   "name": "python3"
  },
  "language_info": {
   "codemirror_mode": {
    "name": "ipython",
    "version": 3
   },
   "file_extension": ".py",
   "mimetype": "text/x-python",
   "name": "python",
   "nbconvert_exporter": "python",
   "pygments_lexer": "ipython3",
   "version": "3.11.13"
  }
 },
 "nbformat": 4,
 "nbformat_minor": 5
}
