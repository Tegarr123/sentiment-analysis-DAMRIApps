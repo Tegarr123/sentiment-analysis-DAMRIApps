{
 "cells": [
  {
   "cell_type": "code",
   "execution_count": 301,
   "id": "a56c7908",
   "metadata": {},
   "outputs": [],
   "source": [
    "import pandas as pd\n",
    "import re"
   ]
  },
  {
   "cell_type": "code",
   "execution_count": 302,
   "id": "3eda7876",
   "metadata": {},
   "outputs": [
    {
     "data": {
      "text/html": [
       "<div>\n",
       "<style scoped>\n",
       "    .dataframe tbody tr th:only-of-type {\n",
       "        vertical-align: middle;\n",
       "    }\n",
       "\n",
       "    .dataframe tbody tr th {\n",
       "        vertical-align: top;\n",
       "    }\n",
       "\n",
       "    .dataframe thead th {\n",
       "        text-align: right;\n",
       "    }\n",
       "</style>\n",
       "<table border=\"1\" class=\"dataframe\">\n",
       "  <thead>\n",
       "    <tr style=\"text-align: right;\">\n",
       "      <th></th>\n",
       "      <th>content</th>\n",
       "      <th>cleaned_text</th>\n",
       "      <th>tokenized_raw_text</th>\n",
       "      <th>tokenized_preprocessed_text</th>\n",
       "      <th>score</th>\n",
       "      <th>thumbsUpCount</th>\n",
       "      <th>reviewCreatedVersion</th>\n",
       "      <th>at</th>\n",
       "      <th>replyContent</th>\n",
       "      <th>repliedAt</th>\n",
       "    </tr>\n",
       "  </thead>\n",
       "  <tbody>\n",
       "    <tr>\n",
       "      <th>0</th>\n",
       "      <td>bug/ keamanan ? aplikasi lama ga di buka ketik...</td>\n",
       "      <td>bug aman aplikasi lama tidak buka mau buka sel...</td>\n",
       "      <td>['bug', 'keamanan', 'aplikasi', 'lama', 'ga', ...</td>\n",
       "      <td>['bug', 'aman', 'aplikasi', 'lama', 'tidak', '...</td>\n",
       "      <td>2</td>\n",
       "      <td>0</td>\n",
       "      <td>4.5.4</td>\n",
       "      <td>2025-09-19 20:37:03</td>\n",
       "      <td>NaN</td>\n",
       "      <td>NaN</td>\n",
       "    </tr>\n",
       "    <tr>\n",
       "      <th>1</th>\n",
       "      <td>Armada sangat sedikit butuh waktu yg lama untu...</td>\n",
       "      <td>armada sangat sedikit butuh waktu yg lama tung...</td>\n",
       "      <td>['armada', 'sangat', 'sedikit', 'butuh', 'wakt...</td>\n",
       "      <td>['armada', 'sangat', 'sedikit', 'butuh', 'wakt...</td>\n",
       "      <td>2</td>\n",
       "      <td>0</td>\n",
       "      <td>NaN</td>\n",
       "      <td>2025-09-18 19:32:01</td>\n",
       "      <td>NaN</td>\n",
       "      <td>NaN</td>\n",
       "    </tr>\n",
       "    <tr>\n",
       "      <th>2</th>\n",
       "      <td>sangat membantu,,bisa pilih kursi tanpa harus ...</td>\n",
       "      <td>sangat membantubisa pilih kursi harus pergi loket</td>\n",
       "      <td>['sangat', 'membantubisa', 'pilih', 'kursi', '...</td>\n",
       "      <td>['sangat', 'membantubisa', 'pilih', 'kursi', '...</td>\n",
       "      <td>5</td>\n",
       "      <td>0</td>\n",
       "      <td>NaN</td>\n",
       "      <td>2025-09-16 17:30:00</td>\n",
       "      <td>NaN</td>\n",
       "      <td>NaN</td>\n",
       "    </tr>\n",
       "    <tr>\n",
       "      <th>3</th>\n",
       "      <td>Pelayanannya baik</td>\n",
       "      <td>layan baik</td>\n",
       "      <td>['pelayanannya', 'baik']</td>\n",
       "      <td>['layan', 'baik']</td>\n",
       "      <td>5</td>\n",
       "      <td>0</td>\n",
       "      <td>NaN</td>\n",
       "      <td>2025-09-16 15:38:28</td>\n",
       "      <td>NaN</td>\n",
       "      <td>NaN</td>\n",
       "    </tr>\n",
       "    <tr>\n",
       "      <th>4</th>\n",
       "      <td>sangat membantu</td>\n",
       "      <td>sangat bantu</td>\n",
       "      <td>['sangat', 'membantu']</td>\n",
       "      <td>['sangat', 'bantu']</td>\n",
       "      <td>5</td>\n",
       "      <td>0</td>\n",
       "      <td>4.5.4</td>\n",
       "      <td>2025-09-15 15:31:35</td>\n",
       "      <td>NaN</td>\n",
       "      <td>NaN</td>\n",
       "    </tr>\n",
       "  </tbody>\n",
       "</table>\n",
       "</div>"
      ],
      "text/plain": [
       "                                             content  \\\n",
       "0  bug/ keamanan ? aplikasi lama ga di buka ketik...   \n",
       "1  Armada sangat sedikit butuh waktu yg lama untu...   \n",
       "2  sangat membantu,,bisa pilih kursi tanpa harus ...   \n",
       "3                                  Pelayanannya baik   \n",
       "4                                    sangat membantu   \n",
       "\n",
       "                                        cleaned_text  \\\n",
       "0  bug aman aplikasi lama tidak buka mau buka sel...   \n",
       "1  armada sangat sedikit butuh waktu yg lama tung...   \n",
       "2  sangat membantubisa pilih kursi harus pergi loket   \n",
       "3                                         layan baik   \n",
       "4                                       sangat bantu   \n",
       "\n",
       "                                  tokenized_raw_text  \\\n",
       "0  ['bug', 'keamanan', 'aplikasi', 'lama', 'ga', ...   \n",
       "1  ['armada', 'sangat', 'sedikit', 'butuh', 'wakt...   \n",
       "2  ['sangat', 'membantubisa', 'pilih', 'kursi', '...   \n",
       "3                           ['pelayanannya', 'baik']   \n",
       "4                             ['sangat', 'membantu']   \n",
       "\n",
       "                         tokenized_preprocessed_text  score  thumbsUpCount  \\\n",
       "0  ['bug', 'aman', 'aplikasi', 'lama', 'tidak', '...      2              0   \n",
       "1  ['armada', 'sangat', 'sedikit', 'butuh', 'wakt...      2              0   \n",
       "2  ['sangat', 'membantubisa', 'pilih', 'kursi', '...      5              0   \n",
       "3                                  ['layan', 'baik']      5              0   \n",
       "4                                ['sangat', 'bantu']      5              0   \n",
       "\n",
       "  reviewCreatedVersion                   at replyContent repliedAt  \n",
       "0                4.5.4  2025-09-19 20:37:03          NaN       NaN  \n",
       "1                  NaN  2025-09-18 19:32:01          NaN       NaN  \n",
       "2                  NaN  2025-09-16 17:30:00          NaN       NaN  \n",
       "3                  NaN  2025-09-16 15:38:28          NaN       NaN  \n",
       "4                4.5.4  2025-09-15 15:31:35          NaN       NaN  "
      ]
     },
     "execution_count": 302,
     "metadata": {},
     "output_type": "execute_result"
    }
   ],
   "source": [
    "df_damri = pd.read_csv('../data/damri_apps_preprocessed.csv')\n",
    "df_damri.head()"
   ]
  },
  {
   "cell_type": "code",
   "execution_count": 303,
   "id": "90a80c1f",
   "metadata": {},
   "outputs": [],
   "source": [
    "df_damri['cleaned_text'].fillna('', inplace=True)"
   ]
  },
  {
   "cell_type": "markdown",
   "id": "203b9bdc",
   "metadata": {},
   "source": [
    "### Word 'bantu'"
   ]
  },
  {
   "cell_type": "code",
   "execution_count": 304,
   "id": "725c67fc",
   "metadata": {},
   "outputs": [],
   "source": [
    "all_bantu = set()"
   ]
  },
  {
   "cell_type": "code",
   "execution_count": 305,
   "id": "6802f776",
   "metadata": {},
   "outputs": [],
   "source": [
    "pattern = r'\\b\\w*bantu\\w*\\b'\n",
    "\n",
    "for text in df_damri['cleaned_text']:\n",
    "    matches = re.findall(pattern, text)\n",
    "    all_bantu.update(matches)"
   ]
  },
  {
   "cell_type": "code",
   "execution_count": 306,
   "id": "2819a2d4",
   "metadata": {},
   "outputs": [
    {
     "data": {
      "text/plain": [
       "{'bagusmembantu',\n",
       " 'bantu',\n",
       " 'bantuanx',\n",
       " 'bantuanya',\n",
       " 'bantuin',\n",
       " 'bantul',\n",
       " 'mambantu',\n",
       " 'membantuberkat',\n",
       " 'membantubisa',\n",
       " 'membantubuat',\n",
       " 'membantucm',\n",
       " 'membantudan',\n",
       " 'membantuga',\n",
       " 'membantugood',\n",
       " 'membantujadi',\n",
       " 'membantukita',\n",
       " 'membantumantap',\n",
       " 'membantunamun',\n",
       " 'membantupelanggan',\n",
       " 'membantupulang',\n",
       " 'membantusukses',\n",
       " 'membantutapi',\n",
       " 'membantuterima',\n",
       " 'membantutp',\n",
       " 'menbantu',\n",
       " 'ngebantu',\n",
       " 'ngebantuuu'}"
      ]
     },
     "execution_count": 306,
     "metadata": {},
     "output_type": "execute_result"
    }
   ],
   "source": [
    "all_bantu"
   ]
  },
  {
   "cell_type": "code",
   "execution_count": 307,
   "id": "db3ac830",
   "metadata": {},
   "outputs": [],
   "source": [
    "# We need to clean the word bantu\n",
    "# change membantu to bantu\n",
    "\n",
    "def membantu_to_bantu(text):\n",
    "    return re.sub(r'(m(a|e)(m|n)bantu|ngebantu|bantu)(l|u*)', 'bantu', text)\n",
    "df_damri['cleaned_text'] = df_damri['cleaned_text'].apply(membantu_to_bantu)"
   ]
  },
  {
   "cell_type": "code",
   "execution_count": 308,
   "id": "2d6d0761",
   "metadata": {},
   "outputs": [],
   "source": [
    "# sepaarte bantu to its own word\n",
    "def separate_bantu(text):\n",
    "    separated = re.sub(r'bantu', ' bantu ', text)\n",
    "    separated = re.sub(r'\\s+', ' ', separated)  # Remove extra spaces\n",
    "    return separated.strip()\n",
    "df_damri['cleaned_text'] = df_damri['cleaned_text'].apply(separate_bantu)"
   ]
  },
  {
   "cell_type": "markdown",
   "id": "1de208d0",
   "metadata": {},
   "source": [
    "### Word aplikasi"
   ]
  },
  {
   "cell_type": "code",
   "execution_count": 309,
   "id": "3f6f865c",
   "metadata": {},
   "outputs": [],
   "source": [
    "all_aplikasi = set()"
   ]
  },
  {
   "cell_type": "code",
   "execution_count": 310,
   "id": "fef3fd09",
   "metadata": {},
   "outputs": [],
   "source": [
    "pattern = r'(\\b\\w*aplikasi\\w*\\b)'\n",
    "\n",
    "for text in df_damri['cleaned_text']:\n",
    "    matches = re.findall(pattern, text)\n",
    "    all_aplikasi.update(matches)"
   ]
  },
  {
   "cell_type": "code",
   "execution_count": 311,
   "id": "45147e94",
   "metadata": {},
   "outputs": [
    {
     "data": {
      "text/plain": [
       "{'adaplikasi',\n",
       " 'amanahaplikasi',\n",
       " 'anjiraplikasinya',\n",
       " 'aplikasi',\n",
       " 'aplikasibaru',\n",
       " 'aplikasih',\n",
       " 'aplikasimalah',\n",
       " 'aplikasiminta',\n",
       " 'aplikasimya',\n",
       " 'aplikasina',\n",
       " 'aplikasinta',\n",
       " 'aplikasiny',\n",
       " 'aplikasinyaa',\n",
       " 'aplikasinyabagus',\n",
       " 'aplikasinyabiar',\n",
       " 'aplikasinyamuterrr',\n",
       " 'aplikasinyasusah',\n",
       " 'aplikasinyaterima',\n",
       " 'aplikasinye',\n",
       " 'aplikasipdhal',\n",
       " 'aplikasipk',\n",
       " 'aplikasirealnya',\n",
       " 'baikaplikasi',\n",
       " 'bermasalahaplikasi',\n",
       " 'duluaplikasi',\n",
       " 'tiketaplikasi'}"
      ]
     },
     "execution_count": 311,
     "metadata": {},
     "output_type": "execute_result"
    }
   ],
   "source": [
    "all_aplikasi"
   ]
  },
  {
   "cell_type": "code",
   "execution_count": 312,
   "id": "49470d6c",
   "metadata": {},
   "outputs": [],
   "source": [
    "# clean aplikasi\n",
    "def clean_aplikasi(text):\n",
    "    return re.sub('aplikasi\\w{0,2}\\s', 'aplikasi ', text)\n",
    "df_damri['cleaned_text'] = df_damri['cleaned_text'].apply(clean_aplikasi)"
   ]
  },
  {
   "cell_type": "code",
   "execution_count": 313,
   "id": "620b88e4",
   "metadata": {},
   "outputs": [],
   "source": [
    "# Separate aplikasi\n",
    "def separate_aplikasi(text):\n",
    "    separated = re.sub(r'aplikasi', ' aplikasi ', text)\n",
    "    separated = re.sub(r'\\s+', ' ', separated)  # Remove extra spaces\n",
    "    return separated.strip()\n",
    "df_damri['cleaned_text'] = df_damri['cleaned_text'].apply(separate_aplikasi)"
   ]
  },
  {
   "cell_type": "markdown",
   "id": "ff6190ad",
   "metadata": {},
   "source": [
    "### Word 'damri'"
   ]
  },
  {
   "cell_type": "code",
   "execution_count": 314,
   "id": "5003ddb8",
   "metadata": {},
   "outputs": [],
   "source": [
    "all_damri = set()"
   ]
  },
  {
   "cell_type": "code",
   "execution_count": 315,
   "id": "fde14450",
   "metadata": {},
   "outputs": [],
   "source": [
    "pattern = r'\\b\\w*damri\\w*\\b'\n",
    "\n",
    "for text in df_damri['cleaned_text']:\n",
    "    matches = re.findall(pattern, text)\n",
    "    all_damri.update(matches)"
   ]
  },
  {
   "cell_type": "code",
   "execution_count": 316,
   "id": "dae9ce7e",
   "metadata": {},
   "outputs": [
    {
     "data": {
      "text/plain": [
       "{'damri',\n",
       " 'damriby',\n",
       " 'damridan',\n",
       " 'damridgn',\n",
       " 'damrigak',\n",
       " 'damriii',\n",
       " 'damriiii',\n",
       " 'damrikalo',\n",
       " 'damrikendaraan',\n",
       " 'damrikrna',\n",
       " 'damriku',\n",
       " 'damrilebih',\n",
       " 'damrimaju',\n",
       " 'damrimasalah',\n",
       " 'damrin',\n",
       " 'damrinapalaginudah',\n",
       " 'damrinya',\n",
       " 'damripembelian',\n",
       " 'damrirute',\n",
       " 'damrismoga',\n",
       " 'damrisy',\n",
       " 'damritakutnya',\n",
       " 'damritinggal',\n",
       " 'damritpi',\n",
       " 'didamri',\n",
       " 'kasihdamri',\n",
       " 'pelanggandamri',\n",
       " 'pooldamri'}"
      ]
     },
     "execution_count": 316,
     "metadata": {},
     "output_type": "execute_result"
    }
   ],
   "source": [
    "all_damri"
   ]
  },
  {
   "cell_type": "code",
   "execution_count": 317,
   "id": "824e638a",
   "metadata": {},
   "outputs": [],
   "source": [
    "# Seperate damri\n",
    "def separate_damri(text):\n",
    "    separated = re.sub(r'damri', ' damri ', text)\n",
    "    separated = re.sub(r'\\s+', ' ', separated)  # Remove extra spaces\n",
    "    return separated.strip()\n",
    "df_damri['cleaned_text'] = df_damri['cleaned_text'].apply(separate_damri)"
   ]
  },
  {
   "cell_type": "markdown",
   "id": "42e30a92",
   "metadata": {},
   "source": [
    "### Word daftar"
   ]
  },
  {
   "cell_type": "code",
   "execution_count": 318,
   "id": "1f431880",
   "metadata": {},
   "outputs": [],
   "source": [
    "all_daftar = set()"
   ]
  },
  {
   "cell_type": "code",
   "execution_count": 319,
   "id": "2270fded",
   "metadata": {},
   "outputs": [],
   "source": [
    "pattern = r'\\b\\w*daftar\\w*\\b'\n",
    "\n",
    "for text in df_damri['cleaned_text']:\n",
    "    matches = re.findall(pattern, text)\n",
    "    all_daftar.update(matches)"
   ]
  },
  {
   "cell_type": "code",
   "execution_count": 320,
   "id": "a75cdf8c",
   "metadata": {},
   "outputs": [
    {
     "data": {
      "text/plain": [
       "{'daftar',\n",
       " 'daftarin',\n",
       " 'daftarkode',\n",
       " 'daftarloginsearching',\n",
       " 'daftarmasuk',\n",
       " 'daftarpas',\n",
       " 'daftarsign',\n",
       " 'mndaftar',\n",
       " 'sihdaftar',\n",
       " 'terdaftarbagaimana',\n",
       " 'terdaftargak',\n",
       " 'terdaftarganti',\n",
       " 'terdaftarterus'}"
      ]
     },
     "execution_count": 320,
     "metadata": {},
     "output_type": "execute_result"
    }
   ],
   "source": [
    "all_daftar"
   ]
  },
  {
   "cell_type": "code",
   "execution_count": 321,
   "id": "f238dc85",
   "metadata": {},
   "outputs": [],
   "source": [
    "# Change men-, ter to base\n",
    "def clean_daftar(text):\n",
    "    return re.sub(r'(m(a|e)(m|n)daftar|terdaftar|ndaftar|daftar)(in)?', 'daftar', text)\n",
    "df_damri['cleaned_text'] = df_damri['cleaned_text'].apply(clean_daftar)"
   ]
  },
  {
   "cell_type": "code",
   "execution_count": 322,
   "id": "39c56604",
   "metadata": {},
   "outputs": [],
   "source": [
    "# separate daftar\n",
    "def separate_daftar(text):\n",
    "    separated = re.sub(r'daftar', ' daftar ', text)\n",
    "    separated = re.sub(r'\\s+', ' ', separated)  # Remove extra spaces\n",
    "    return separated.strip()\n",
    "df_damri['cleaned_text'] = df_damri['cleaned_text'].apply(separate_daftar)"
   ]
  },
  {
   "cell_type": "markdown",
   "id": "ad05917d",
   "metadata": {},
   "source": [
    "### Word 'bayar'"
   ]
  },
  {
   "cell_type": "code",
   "execution_count": 323,
   "id": "a17ee630",
   "metadata": {},
   "outputs": [],
   "source": [
    "all_bayar = set()"
   ]
  },
  {
   "cell_type": "code",
   "execution_count": 324,
   "id": "a82ae1bc",
   "metadata": {},
   "outputs": [],
   "source": [
    "pattern = r'\\b\\w*bayar\\w*\\b'\n",
    "\n",
    "for text in df_damri['cleaned_text']:\n",
    "    matches = re.findall(pattern, text)\n",
    "    all_bayar.update(matches)"
   ]
  },
  {
   "cell_type": "code",
   "execution_count": 325,
   "id": "3515943c",
   "metadata": {},
   "outputs": [
    {
     "data": {
      "text/plain": [
       "{'bayar',\n",
       " 'bayarmalah',\n",
       " 'inibayar',\n",
       " 'miminpembayarannya',\n",
       " 'pembayaranpilihan',\n",
       " 'pembayarantidak',\n",
       " 'pembayaranya',\n",
       " 'pembayarn',\n",
       " 'pesankanbelibayar'}"
      ]
     },
     "execution_count": 325,
     "metadata": {},
     "output_type": "execute_result"
    }
   ],
   "source": [
    "all_bayar"
   ]
  },
  {
   "cell_type": "code",
   "execution_count": 326,
   "id": "7328c26d",
   "metadata": {},
   "outputs": [],
   "source": [
    "# change pembayaran to bayar\n",
    "def change_bayar(text):\n",
    "    return re.sub(\"pe?mbayara?n\", \"bayar\", text)\n",
    "df_damri['cleaned_text'] = df_damri['cleaned_text'].apply(change_bayar)"
   ]
  },
  {
   "cell_type": "code",
   "execution_count": 327,
   "id": "d6f40ebd",
   "metadata": {},
   "outputs": [],
   "source": [
    "# separate bayar\n",
    "def separate_bayar(text):\n",
    "    separated = re.sub(r'bayar', ' bayar ', text)\n",
    "    separated = re.sub(r'\\s+', ' ', separated)  # Remove extra spaces\n",
    "    return separated.strip()\n",
    "df_damri['cleaned_text'] = df_damri['cleaned_text'].apply(separate_bayar)"
   ]
  },
  {
   "cell_type": "markdown",
   "id": "77d02b61",
   "metadata": {},
   "source": [
    "### Word 'tiket'"
   ]
  },
  {
   "cell_type": "code",
   "execution_count": 328,
   "id": "3a77322e",
   "metadata": {},
   "outputs": [],
   "source": [
    "all_tiket = set()"
   ]
  },
  {
   "cell_type": "code",
   "execution_count": 329,
   "id": "0124a68a",
   "metadata": {},
   "outputs": [],
   "source": [
    "pattern = r'\\b\\w*tiket\\w*\\b'\n",
    "\n",
    "for text in df_damri['cleaned_text']:\n",
    "    matches = re.findall(pattern, text)\n",
    "    all_tiket.update(matches)"
   ]
  },
  {
   "cell_type": "code",
   "execution_count": 330,
   "id": "4480312c",
   "metadata": {},
   "outputs": [
    {
     "data": {
      "text/plain": [
       "{'1tiket',\n",
       " 'etiket',\n",
       " 'pertiketgmn',\n",
       " 'tiket',\n",
       " 'tiketbumn',\n",
       " 'tiketdiapdet',\n",
       " 'tikethrus',\n",
       " 'tiketing',\n",
       " 'tiketjadi',\n",
       " 'tiketkeluar',\n",
       " 'tiketmakasih',\n",
       " 'tiketmohon',\n",
       " 'tiketnyapadahal',\n",
       " 'tiketnyba',\n",
       " 'tiketsangat',\n",
       " 'tiketsehingga',\n",
       " 'tiketsmoga',\n",
       " 'tikett',\n",
       " 'tikettanpa',\n",
       " 'tikettapi',\n",
       " 'tikettinggal',\n",
       " 'tikettingkatkan',\n",
       " 'tikettjadi',\n",
       " 'tikettp',\n",
       " 'tikettrus'}"
      ]
     },
     "execution_count": 330,
     "metadata": {},
     "output_type": "execute_result"
    }
   ],
   "source": [
    "all_tiket"
   ]
  },
  {
   "cell_type": "code",
   "execution_count": 331,
   "id": "f2b333e3",
   "metadata": {},
   "outputs": [],
   "source": [
    "# clean tiket\n",
    "def clean_tiket(text):\n",
    "    result = re.sub(\"\\s\\w{0,2}tiket\\w{0,2}\\s\", \" tiket \", \" \"+text+\" \")\n",
    "    result = re.sub(r'\\s+', ' ', result)\n",
    "    return result\n",
    "df_damri['cleaned_text'] = df_damri['cleaned_text'].apply(clean_tiket)"
   ]
  },
  {
   "cell_type": "code",
   "execution_count": 332,
   "id": "44bd1871",
   "metadata": {},
   "outputs": [],
   "source": [
    "# separate tiket\n",
    "def separate_tiket(text):\n",
    "    separated = re.sub(r'tiket', ' tiket ', text)\n",
    "    separated = re.sub(r'\\s+', ' ', separated)  # Remove extra spaces\n",
    "    return separated.strip()\n",
    "df_damri['cleaned_text'] = df_damri['cleaned_text'].apply(separate_tiket)"
   ]
  },
  {
   "cell_type": "markdown",
   "id": "5327d29e",
   "metadata": {},
   "source": [
    "### word 'susah'"
   ]
  },
  {
   "cell_type": "code",
   "execution_count": 333,
   "id": "0be85b5c",
   "metadata": {},
   "outputs": [],
   "source": [
    "all_susah = set()\n",
    "pattern = r'\\b\\w*su?sah\\w*\\b'\n",
    "\n",
    "for text in df_damri['cleaned_text']:\n",
    "    matches = re.findall(pattern, text)\n",
    "    all_susah.update(matches)\n"
   ]
  },
  {
   "cell_type": "code",
   "execution_count": 334,
   "id": "eba2f08a",
   "metadata": {},
   "outputs": [
    {
     "data": {
      "text/plain": [
       "{'bisasusah',\n",
       " 'erorsusah',\n",
       " 'nyasusah',\n",
       " 'sukasusah',\n",
       " 'susah',\n",
       " 'susahbener',\n",
       " 'susahboro2',\n",
       " 'susahhapus',\n",
       " 'susahhrs',\n",
       " 'susahkode',\n",
       " 'susahny'}"
      ]
     },
     "execution_count": 334,
     "metadata": {},
     "output_type": "execute_result"
    }
   ],
   "source": [
    "all_susah"
   ]
  },
  {
   "cell_type": "code",
   "execution_count": 335,
   "id": "27ac38d6",
   "metadata": {},
   "outputs": [],
   "source": [
    "# separate susah\n",
    "def separate_susah(text):\n",
    "    separated = re.sub(r'susah', ' susah ', text)\n",
    "    separated = re.sub(r'\\s+', ' ', separated)  # Remove extra spaces\n",
    "    return separated.strip()\n",
    "df_damri['cleaned_text'] = df_damri['cleaned_text'].apply(separate_susah)"
   ]
  },
  {
   "cell_type": "markdown",
   "id": "29542b03",
   "metadata": {},
   "source": [
    "### word 'pakai'"
   ]
  },
  {
   "cell_type": "code",
   "execution_count": 336,
   "id": "5c36cb7b",
   "metadata": {},
   "outputs": [],
   "source": [
    "all_pakai = set()\n",
    "pattern = r'\\b\\w*(?:make(?!t)|makai|pakai|pake(?!t))\\w*\\b'\n",
    "\n",
    "for text in df_damri['cleaned_text']:\n",
    "    matches = re.findall(pattern, text)\n",
    "    all_pakai.update(matches)\n"
   ]
  },
  {
   "cell_type": "code",
   "execution_count": 337,
   "id": "59cbfa4b",
   "metadata": {},
   "outputs": [
    {
     "data": {
      "text/plain": [
       "{'bripakai',\n",
       " 'dipakailoading',\n",
       " 'dipakaiperjalanan',\n",
       " 'dipake',\n",
       " 'dipakebangkebuat',\n",
       " 'kepake',\n",
       " 'make',\n",
       " 'mmakai',\n",
       " 'pakai',\n",
       " 'pake',\n",
       " 'pakenya'}"
      ]
     },
     "execution_count": 337,
     "metadata": {},
     "output_type": "execute_result"
    }
   ],
   "source": [
    "all_pakai"
   ]
  },
  {
   "cell_type": "code",
   "execution_count": 338,
   "id": "8007c646",
   "metadata": {},
   "outputs": [],
   "source": [
    "### change to pakai\n",
    "def change_pakai(text):\n",
    "    new_text = re.sub(r'make(?!t)|makai|pakai|pake(?!t)', 'pakai', text)\n",
    "    return new_text\n",
    "\n",
    "df_damri['cleaned_text'] = df_damri['cleaned_text'].apply(change_pakai)"
   ]
  },
  {
   "cell_type": "code",
   "execution_count": 339,
   "id": "68a61ff6",
   "metadata": {},
   "outputs": [],
   "source": [
    "### separate pakai\n",
    "def separate_pakai(text):\n",
    "    separated = re.sub(r'pakai', ' pakai ', text)\n",
    "    separated = re.sub(r'\\s+', ' ', separated)  # Remove extra spaces\n",
    "    return separated.strip()\n",
    "df_damri['cleaned_text'] = df_damri['cleaned_text'].apply(separate_pakai)"
   ]
  },
  {
   "cell_type": "markdown",
   "id": "dc9c5eda",
   "metadata": {},
   "source": [
    "### word 'rute'"
   ]
  },
  {
   "cell_type": "code",
   "execution_count": 340,
   "id": "b51a85f4",
   "metadata": {},
   "outputs": [],
   "source": [
    "all_rute = set()\n",
    "pattern = r'\\b\\w*rute\\w*\\b'\n",
    "\n",
    "for text in df_damri['cleaned_text']:\n",
    "    matches = re.findall(pattern, text)\n",
    "    all_rute.update(matches)"
   ]
  },
  {
   "cell_type": "code",
   "execution_count": 341,
   "id": "874e4aa4",
   "metadata": {},
   "outputs": [
    {
     "data": {
      "text/plain": [
       "{'ajarute', 'mengecewakanrute', 'rute', 'rutejurusan', 'ruterutenya', 'ruteu'}"
      ]
     },
     "execution_count": 341,
     "metadata": {},
     "output_type": "execute_result"
    }
   ],
   "source": [
    "all_rute"
   ]
  },
  {
   "cell_type": "code",
   "execution_count": 342,
   "id": "d27656a8",
   "metadata": {},
   "outputs": [],
   "source": [
    "# separate rute\n",
    "def separate_rute(text):\n",
    "    separated = re.sub(r'rute', ' rute ', text)\n",
    "    separated = re.sub(r'\\s+', ' ', separated)  # Remove extra spaces\n",
    "    return separated.strip()\n",
    "df_damri['cleaned_text'] = df_damri['cleaned_text'].apply(separate_rute)"
   ]
  },
  {
   "cell_type": "markdown",
   "id": "3b16d8ac",
   "metadata": {},
   "source": [
    "### word 'kecewa'"
   ]
  },
  {
   "cell_type": "code",
   "execution_count": 343,
   "id": "6ff592dc",
   "metadata": {},
   "outputs": [],
   "source": [
    "all_kecewa = set()\n",
    "pattern = r'\\b\\w*(?:k?ecewa)\\w*\\b'\n",
    "\n",
    "for text in df_damri['cleaned_text']:\n",
    "    matches = re.findall(pattern, text)\n",
    "    all_kecewa.update(matches)"
   ]
  },
  {
   "cell_type": "code",
   "execution_count": 344,
   "id": "f54d9d61",
   "metadata": {},
   "outputs": [
    {
     "data": {
      "text/plain": [
       "{'kecewa',\n",
       " 'kecewaaa',\n",
       " 'kecewain',\n",
       " 'kecewainikah',\n",
       " 'mengecewakan',\n",
       " 'mngecewakan'}"
      ]
     },
     "execution_count": 344,
     "metadata": {},
     "output_type": "execute_result"
    }
   ],
   "source": [
    "all_kecewa"
   ]
  },
  {
   "cell_type": "code",
   "execution_count": 345,
   "id": "8daec61b",
   "metadata": {},
   "outputs": [],
   "source": [
    "# change to kecewa\n",
    "def change_kecewa(text):\n",
    "    new_text = re.sub(pattern, \"kecewa\", text)\n",
    "    new_text = re.sub(r'\\s+', ' ', new_text)\n",
    "    return new_text\n",
    "df_damri['cleaned_text'] = df_damri['cleaned_text'].apply(change_kecewa)"
   ]
  },
  {
   "cell_type": "markdown",
   "id": "ee34293a",
   "metadata": {},
   "source": [
    "### word 'nya', 'yg', 'aja'"
   ]
  },
  {
   "cell_type": "code",
   "execution_count": 346,
   "id": "6dc778d5",
   "metadata": {},
   "outputs": [],
   "source": [
    "all_nya_yg_aja = set()\n",
    "pattern = r'\\b(yg|aja|nya)\\b'\n",
    "\n",
    "for text in df_damri['cleaned_text']:\n",
    "    matches = re.findall(pattern, text)\n",
    "    all_nya_yg_aja.update(matches)"
   ]
  },
  {
   "cell_type": "code",
   "execution_count": 347,
   "id": "37c89763",
   "metadata": {},
   "outputs": [
    {
     "data": {
      "text/plain": [
       "{'aja', 'nya', 'yg'}"
      ]
     },
     "execution_count": 347,
     "metadata": {},
     "output_type": "execute_result"
    }
   ],
   "source": [
    "all_nya_yg_aja"
   ]
  },
  {
   "cell_type": "code",
   "execution_count": 348,
   "id": "34749db4",
   "metadata": {},
   "outputs": [],
   "source": [
    "# remove\n",
    "def remove_word_nya_yg_aja(text):\n",
    "    new_text = re.sub(pattern, \"\", text)\n",
    "    new_text = re.sub(r'\\s+', ' ', new_text)\n",
    "    return new_text\n",
    "\n",
    "df_damri['cleaned_text'] = df_damri['cleaned_text'].apply(remove_word_nya_yg_aja)"
   ]
  },
  {
   "cell_type": "markdown",
   "id": "742ce0f9",
   "metadata": {},
   "source": [
    "### to csv"
   ]
  },
  {
   "cell_type": "code",
   "execution_count": 349,
   "id": "4d3b3b5c",
   "metadata": {},
   "outputs": [],
   "source": [
    "df_damri.to_csv('../data/damri_apps_preprocessed.csv', index=False)"
   ]
  }
 ],
 "metadata": {
  "kernelspec": {
   "display_name": "py11",
   "language": "python",
   "name": "python3"
  },
  "language_info": {
   "codemirror_mode": {
    "name": "ipython",
    "version": 3
   },
   "file_extension": ".py",
   "mimetype": "text/x-python",
   "name": "python",
   "nbconvert_exporter": "python",
   "pygments_lexer": "ipython3",
   "version": "3.11.13"
  }
 },
 "nbformat": 4,
 "nbformat_minor": 5
}
