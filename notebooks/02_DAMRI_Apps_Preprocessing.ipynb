{
 "cells": [
  {
   "cell_type": "code",
   "execution_count": 5,
   "id": "3f9eceac",
   "metadata": {},
   "outputs": [],
   "source": [
    "from google_play_scraper import app\n",
    "import pandas as pd\n",
    "import numpy as np\n",
    "import sklearn\n",
    "import requests\n",
    "import matplotlib.pyplot as plt\n",
    "import matplotlib.dates as dates\n",
    "import seaborn as sns\n",
    "import textblob\n",
    "#from wordcloud import WordCloud\n",
    "from pathlib import Path\n",
    "from nltk.corpus import stopwords\n",
    "from sklearn.model_selection import train_test_split\n",
    "from sklearn.metrics import confusion_matrix,classification_report, accuracy_score\n",
    "\n",
    "import pickle\n",
    "import re\n",
    "import time\n",
    "import datetime                              # access to %%time, for timing individual notebook cells\n",
    "import os\n",
    "from PIL import Image\n",
    "from sklearn.pipeline import Pipeline\n",
    "from sklearn.feature_extraction.text import TfidfVectorizer\n",
    "from sklearn.linear_model import LogisticRegression\n",
    "\n",
    "%matplotlib inline\n",
    "%config InlineBackend.figure_format='retina'\n",
    "\n",
    "# Import seaborn styles explicitly\n",
    "import seaborn as sns\n",
    "# Apply the seaborn style before creating plots\n",
    "sns.set_style(\"whitegrid\")  # This line sets the Seaborn style\n",
    "\n",
    "plt.rcParams[\"figure.figsize\"] = (15,10)"
   ]
  },
  {
   "cell_type": "markdown",
   "id": "c5b97eee",
   "metadata": {},
   "source": [
    "### get the data"
   ]
  },
  {
   "cell_type": "code",
   "execution_count": 7,
   "id": "e8787abc",
   "metadata": {},
   "outputs": [
    {
     "data": {
      "text/plain": [
       "(6182, 11)"
      ]
     },
     "execution_count": 7,
     "metadata": {},
     "output_type": "execute_result"
    }
   ],
   "source": [
    "df_damri = pd.read_csv(\"../data/damri_apps_raw.csv\")\n",
    "df_damri.shape"
   ]
  },
  {
   "cell_type": "markdown",
   "id": "77b895d0",
   "metadata": {},
   "source": [
    "### Frequent Word Analysis"
   ]
  },
  {
   "cell_type": "code",
   "execution_count": null,
   "id": "4e27affb",
   "metadata": {},
   "outputs": [],
   "source": []
  },
  {
   "cell_type": "markdown",
   "id": "f3c5c92a",
   "metadata": {},
   "source": [
    "### Stopword Removal"
   ]
  },
  {
   "cell_type": "code",
   "execution_count": null,
   "id": "abf8b5fe",
   "metadata": {},
   "outputs": [],
   "source": []
  }
 ],
 "metadata": {
  "kernelspec": {
   "display_name": "py11",
   "language": "python",
   "name": "python3"
  },
  "language_info": {
   "codemirror_mode": {
    "name": "ipython",
    "version": 3
   },
   "file_extension": ".py",
   "mimetype": "text/x-python",
   "name": "python",
   "nbconvert_exporter": "python",
   "pygments_lexer": "ipython3",
   "version": "3.11.13"
  }
 },
 "nbformat": 4,
 "nbformat_minor": 5
}
