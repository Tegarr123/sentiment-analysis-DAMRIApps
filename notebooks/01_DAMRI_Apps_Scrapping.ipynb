{
 "cells": [
  {
   "cell_type": "code",
   "execution_count": 1,
   "id": "f7a8795e",
   "metadata": {},
   "outputs": [],
   "source": [
    "import pandas as pd\n",
    "from google_play_scraper import reviews_all, Sort\n",
    "filename_csv = \"damri_apps_raw.csv\""
   ]
  },
  {
   "cell_type": "code",
   "execution_count": 2,
   "id": "9e9f489a",
   "metadata": {},
   "outputs": [],
   "source": [
    "result = reviews_all(app_id=\"com.simadamri.damriapps\",\n",
    "                     lang=\"id\", # Indonesian language\n",
    "                     country=\"id\")"
   ]
  },
  {
   "cell_type": "code",
   "execution_count": 3,
   "id": "a03e0968",
   "metadata": {},
   "outputs": [],
   "source": [
    "df_result = pd.DataFrame(result)"
   ]
  },
  {
   "cell_type": "code",
   "execution_count": 4,
   "id": "7086b2ad",
   "metadata": {},
   "outputs": [
    {
     "data": {
      "text/plain": [
       "4945"
      ]
     },
     "execution_count": 4,
     "metadata": {},
     "output_type": "execute_result"
    }
   ],
   "source": [
    "len(df_result)"
   ]
  },
  {
   "cell_type": "code",
   "execution_count": 5,
   "id": "080a279d",
   "metadata": {},
   "outputs": [],
   "source": [
    "with open(f\"../data/{filename_csv}\", mode='w', encoding='utf-8') as f:\n",
    "    df_result.to_csv(f, index=False)"
   ]
  }
 ],
 "metadata": {
  "kernelspec": {
   "display_name": "py11",
   "language": "python",
   "name": "python3"
  },
  "language_info": {
   "codemirror_mode": {
    "name": "ipython",
    "version": 3
   },
   "file_extension": ".py",
   "mimetype": "text/x-python",
   "name": "python",
   "nbconvert_exporter": "python",
   "pygments_lexer": "ipython3",
   "version": "3.11.13"
  }
 },
 "nbformat": 4,
 "nbformat_minor": 5
}
