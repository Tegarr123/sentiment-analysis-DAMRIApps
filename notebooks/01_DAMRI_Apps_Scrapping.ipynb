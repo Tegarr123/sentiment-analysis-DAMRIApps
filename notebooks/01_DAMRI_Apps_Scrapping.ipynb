{
 "cells": [
  {
   "cell_type": "code",
   "execution_count": 13,
   "id": "f7a8795e",
   "metadata": {},
   "outputs": [],
   "source": [
    "import pandas as pd\n",
    "from google_play_scraper import reviews_all, Sort\n",
    "filename_csv = \"damri_apps_reviews.csv\""
   ]
  },
  {
   "cell_type": "code",
   "execution_count": 4,
   "id": "9e9f489a",
   "metadata": {},
   "outputs": [],
   "source": [
    "result_1 = reviews_all(app_id=\"com.simadamri.damriapps\",\n",
    "                     lang=\"id\",\n",
    "                     country=\"id\")\n",
    "result_2 = reviews_all(app_id=\"com.simadamri.damriapps\",\n",
    "                     lang=\"en\",\n",
    "                     country=\"id\")"
   ]
  },
  {
   "cell_type": "code",
   "execution_count": 6,
   "id": "a03e0968",
   "metadata": {},
   "outputs": [],
   "source": [
    "df_result_1 = pd.DataFrame(result_1)\n",
    "df_result_2 = pd.DataFrame(result_2)\n",
    "df_result = pd.concat([df_result_1, df_result_2], ignore_index=True)"
   ]
  },
  {
   "cell_type": "code",
   "execution_count": 18,
   "id": "080a279d",
   "metadata": {},
   "outputs": [],
   "source": [
    "with open(f\"../data/{filename_csv}\", mode='w', encoding='utf-8') as f:\n",
    "    df_result.to_csv(f, index=False)"
   ]
  }
 ],
 "metadata": {
  "kernelspec": {
   "display_name": "py11",
   "language": "python",
   "name": "python3"
  },
  "language_info": {
   "codemirror_mode": {
    "name": "ipython",
    "version": 3
   },
   "file_extension": ".py",
   "mimetype": "text/x-python",
   "name": "python",
   "nbconvert_exporter": "python",
   "pygments_lexer": "ipython3",
   "version": "3.11.13"
  }
 },
 "nbformat": 4,
 "nbformat_minor": 5
}
