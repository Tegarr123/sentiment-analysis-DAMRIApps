{
 "cells": [
  {
   "cell_type": "code",
   "execution_count": 139,
   "id": "2e2c63eb",
   "metadata": {},
   "outputs": [],
   "source": [
    "import pandas as pd\n",
    "from sklearn.model_selection import train_test_split\n",
    "from sklearn.feature_extraction.text import TfidfVectorizer\n",
    "import matplotlib.pyplot as plt\n",
    "from sklearn.svm import LinearSVC\n",
    "from sklearn.linear_model import LogisticRegression\n",
    "from sklearn.naive_bayes import MultinomialNB\n",
    "from xgboost import XGBClassifier\n",
    "from sklearn.ensemble import RandomForestClassifier\n",
    "from sklearn.metrics import accuracy_score, precision_score, recall_score, f1_score, classification_report, confusion_matrix\n",
    "from timeit import default_timer as timer"
   ]
  },
  {
   "cell_type": "code",
   "execution_count": 140,
   "id": "a8562411",
   "metadata": {},
   "outputs": [
    {
     "data": {
      "text/html": [
       "<div>\n",
       "<style scoped>\n",
       "    .dataframe tbody tr th:only-of-type {\n",
       "        vertical-align: middle;\n",
       "    }\n",
       "\n",
       "    .dataframe tbody tr th {\n",
       "        vertical-align: top;\n",
       "    }\n",
       "\n",
       "    .dataframe thead th {\n",
       "        text-align: right;\n",
       "    }\n",
       "</style>\n",
       "<table border=\"1\" class=\"dataframe\">\n",
       "  <thead>\n",
       "    <tr style=\"text-align: right;\">\n",
       "      <th></th>\n",
       "      <th>content</th>\n",
       "      <th>cleaned_text</th>\n",
       "      <th>tokenized_raw_text</th>\n",
       "      <th>tokenized_preprocessed_text</th>\n",
       "      <th>score</th>\n",
       "      <th>thumbsUpCount</th>\n",
       "      <th>reviewCreatedVersion</th>\n",
       "      <th>at</th>\n",
       "      <th>replyContent</th>\n",
       "      <th>repliedAt</th>\n",
       "    </tr>\n",
       "  </thead>\n",
       "  <tbody>\n",
       "    <tr>\n",
       "      <th>0</th>\n",
       "      <td>bug/ keamanan ? aplikasi lama ga di buka ketik...</td>\n",
       "      <td>bug aman aplikasi lama tidak buka mau buka sel...</td>\n",
       "      <td>['bug', 'keamanan', 'aplikasi', 'lama', 'ga', ...</td>\n",
       "      <td>['bug', 'aman', 'aplikasi', 'lama', 'tidak', '...</td>\n",
       "      <td>2</td>\n",
       "      <td>0</td>\n",
       "      <td>4.5.4</td>\n",
       "      <td>2025-09-19 20:37:03</td>\n",
       "      <td>NaN</td>\n",
       "      <td>NaN</td>\n",
       "    </tr>\n",
       "    <tr>\n",
       "      <th>1</th>\n",
       "      <td>Armada sangat sedikit butuh waktu yg lama untu...</td>\n",
       "      <td>armada sangat sedikit butuh waktu lama tunggu ...</td>\n",
       "      <td>['armada', 'sangat', 'sedikit', 'butuh', 'wakt...</td>\n",
       "      <td>['armada', 'sangat', 'sedikit', 'butuh', 'wakt...</td>\n",
       "      <td>2</td>\n",
       "      <td>0</td>\n",
       "      <td>NaN</td>\n",
       "      <td>2025-09-18 19:32:01</td>\n",
       "      <td>NaN</td>\n",
       "      <td>NaN</td>\n",
       "    </tr>\n",
       "    <tr>\n",
       "      <th>2</th>\n",
       "      <td>sangat membantu,,bisa pilih kursi tanpa harus ...</td>\n",
       "      <td>sangat bantu bisa pilih kursi harus pergi loket</td>\n",
       "      <td>['sangat', 'membantubisa', 'pilih', 'kursi', '...</td>\n",
       "      <td>['sangat', 'membantubisa', 'pilih', 'kursi', '...</td>\n",
       "      <td>5</td>\n",
       "      <td>0</td>\n",
       "      <td>NaN</td>\n",
       "      <td>2025-09-16 17:30:00</td>\n",
       "      <td>NaN</td>\n",
       "      <td>NaN</td>\n",
       "    </tr>\n",
       "    <tr>\n",
       "      <th>3</th>\n",
       "      <td>Pelayanannya baik</td>\n",
       "      <td>layan baik</td>\n",
       "      <td>['pelayanannya', 'baik']</td>\n",
       "      <td>['layan', 'baik']</td>\n",
       "      <td>5</td>\n",
       "      <td>0</td>\n",
       "      <td>NaN</td>\n",
       "      <td>2025-09-16 15:38:28</td>\n",
       "      <td>NaN</td>\n",
       "      <td>NaN</td>\n",
       "    </tr>\n",
       "    <tr>\n",
       "      <th>4</th>\n",
       "      <td>sangat membantu</td>\n",
       "      <td>sangat bantu</td>\n",
       "      <td>['sangat', 'membantu']</td>\n",
       "      <td>['sangat', 'bantu']</td>\n",
       "      <td>5</td>\n",
       "      <td>0</td>\n",
       "      <td>4.5.4</td>\n",
       "      <td>2025-09-15 15:31:35</td>\n",
       "      <td>NaN</td>\n",
       "      <td>NaN</td>\n",
       "    </tr>\n",
       "  </tbody>\n",
       "</table>\n",
       "</div>"
      ],
      "text/plain": [
       "                                             content  \\\n",
       "0  bug/ keamanan ? aplikasi lama ga di buka ketik...   \n",
       "1  Armada sangat sedikit butuh waktu yg lama untu...   \n",
       "2  sangat membantu,,bisa pilih kursi tanpa harus ...   \n",
       "3                                  Pelayanannya baik   \n",
       "4                                    sangat membantu   \n",
       "\n",
       "                                        cleaned_text  \\\n",
       "0  bug aman aplikasi lama tidak buka mau buka sel...   \n",
       "1  armada sangat sedikit butuh waktu lama tunggu ...   \n",
       "2    sangat bantu bisa pilih kursi harus pergi loket   \n",
       "3                                         layan baik   \n",
       "4                                       sangat bantu   \n",
       "\n",
       "                                  tokenized_raw_text  \\\n",
       "0  ['bug', 'keamanan', 'aplikasi', 'lama', 'ga', ...   \n",
       "1  ['armada', 'sangat', 'sedikit', 'butuh', 'wakt...   \n",
       "2  ['sangat', 'membantubisa', 'pilih', 'kursi', '...   \n",
       "3                           ['pelayanannya', 'baik']   \n",
       "4                             ['sangat', 'membantu']   \n",
       "\n",
       "                         tokenized_preprocessed_text  score  thumbsUpCount  \\\n",
       "0  ['bug', 'aman', 'aplikasi', 'lama', 'tidak', '...      2              0   \n",
       "1  ['armada', 'sangat', 'sedikit', 'butuh', 'wakt...      2              0   \n",
       "2  ['sangat', 'membantubisa', 'pilih', 'kursi', '...      5              0   \n",
       "3                                  ['layan', 'baik']      5              0   \n",
       "4                                ['sangat', 'bantu']      5              0   \n",
       "\n",
       "  reviewCreatedVersion                   at replyContent repliedAt  \n",
       "0                4.5.4  2025-09-19 20:37:03          NaN       NaN  \n",
       "1                  NaN  2025-09-18 19:32:01          NaN       NaN  \n",
       "2                  NaN  2025-09-16 17:30:00          NaN       NaN  \n",
       "3                  NaN  2025-09-16 15:38:28          NaN       NaN  \n",
       "4                4.5.4  2025-09-15 15:31:35          NaN       NaN  "
      ]
     },
     "execution_count": 140,
     "metadata": {},
     "output_type": "execute_result"
    }
   ],
   "source": [
    "# get the data\n",
    "df_damri = pd.read_csv(\"../data/damri_apps_preprocessed.csv\")\n",
    "df_damri['cleaned_text'].fillna('', inplace=True)\n",
    "df_damri.head()\n",
    "\n"
   ]
  },
  {
   "cell_type": "code",
   "execution_count": 141,
   "id": "053cc9cd",
   "metadata": {},
   "outputs": [
    {
     "data": {
      "text/html": [
       "<div>\n",
       "<style scoped>\n",
       "    .dataframe tbody tr th:only-of-type {\n",
       "        vertical-align: middle;\n",
       "    }\n",
       "\n",
       "    .dataframe tbody tr th {\n",
       "        vertical-align: top;\n",
       "    }\n",
       "\n",
       "    .dataframe thead th {\n",
       "        text-align: right;\n",
       "    }\n",
       "</style>\n",
       "<table border=\"1\" class=\"dataframe\">\n",
       "  <thead>\n",
       "    <tr style=\"text-align: right;\">\n",
       "      <th></th>\n",
       "      <th>content</th>\n",
       "      <th>cleaned_text</th>\n",
       "      <th>tokenized_raw_text</th>\n",
       "      <th>tokenized_preprocessed_text</th>\n",
       "      <th>score</th>\n",
       "      <th>thumbsUpCount</th>\n",
       "      <th>reviewCreatedVersion</th>\n",
       "      <th>at</th>\n",
       "      <th>replyContent</th>\n",
       "      <th>repliedAt</th>\n",
       "      <th>sentiment</th>\n",
       "    </tr>\n",
       "  </thead>\n",
       "  <tbody>\n",
       "    <tr>\n",
       "      <th>0</th>\n",
       "      <td>bug/ keamanan ? aplikasi lama ga di buka ketik...</td>\n",
       "      <td>bug aman aplikasi lama tidak buka mau buka sel...</td>\n",
       "      <td>['bug', 'keamanan', 'aplikasi', 'lama', 'ga', ...</td>\n",
       "      <td>['bug', 'aman', 'aplikasi', 'lama', 'tidak', '...</td>\n",
       "      <td>2</td>\n",
       "      <td>0</td>\n",
       "      <td>4.5.4</td>\n",
       "      <td>2025-09-19 20:37:03</td>\n",
       "      <td>NaN</td>\n",
       "      <td>NaN</td>\n",
       "      <td>0</td>\n",
       "    </tr>\n",
       "    <tr>\n",
       "      <th>1</th>\n",
       "      <td>Armada sangat sedikit butuh waktu yg lama untu...</td>\n",
       "      <td>armada sangat sedikit butuh waktu lama tunggu ...</td>\n",
       "      <td>['armada', 'sangat', 'sedikit', 'butuh', 'wakt...</td>\n",
       "      <td>['armada', 'sangat', 'sedikit', 'butuh', 'wakt...</td>\n",
       "      <td>2</td>\n",
       "      <td>0</td>\n",
       "      <td>NaN</td>\n",
       "      <td>2025-09-18 19:32:01</td>\n",
       "      <td>NaN</td>\n",
       "      <td>NaN</td>\n",
       "      <td>0</td>\n",
       "    </tr>\n",
       "    <tr>\n",
       "      <th>2</th>\n",
       "      <td>sangat membantu,,bisa pilih kursi tanpa harus ...</td>\n",
       "      <td>sangat bantu bisa pilih kursi harus pergi loket</td>\n",
       "      <td>['sangat', 'membantubisa', 'pilih', 'kursi', '...</td>\n",
       "      <td>['sangat', 'membantubisa', 'pilih', 'kursi', '...</td>\n",
       "      <td>5</td>\n",
       "      <td>0</td>\n",
       "      <td>NaN</td>\n",
       "      <td>2025-09-16 17:30:00</td>\n",
       "      <td>NaN</td>\n",
       "      <td>NaN</td>\n",
       "      <td>1</td>\n",
       "    </tr>\n",
       "    <tr>\n",
       "      <th>3</th>\n",
       "      <td>Pelayanannya baik</td>\n",
       "      <td>layan baik</td>\n",
       "      <td>['pelayanannya', 'baik']</td>\n",
       "      <td>['layan', 'baik']</td>\n",
       "      <td>5</td>\n",
       "      <td>0</td>\n",
       "      <td>NaN</td>\n",
       "      <td>2025-09-16 15:38:28</td>\n",
       "      <td>NaN</td>\n",
       "      <td>NaN</td>\n",
       "      <td>1</td>\n",
       "    </tr>\n",
       "    <tr>\n",
       "      <th>4</th>\n",
       "      <td>sangat membantu</td>\n",
       "      <td>sangat bantu</td>\n",
       "      <td>['sangat', 'membantu']</td>\n",
       "      <td>['sangat', 'bantu']</td>\n",
       "      <td>5</td>\n",
       "      <td>0</td>\n",
       "      <td>4.5.4</td>\n",
       "      <td>2025-09-15 15:31:35</td>\n",
       "      <td>NaN</td>\n",
       "      <td>NaN</td>\n",
       "      <td>1</td>\n",
       "    </tr>\n",
       "  </tbody>\n",
       "</table>\n",
       "</div>"
      ],
      "text/plain": [
       "                                             content  \\\n",
       "0  bug/ keamanan ? aplikasi lama ga di buka ketik...   \n",
       "1  Armada sangat sedikit butuh waktu yg lama untu...   \n",
       "2  sangat membantu,,bisa pilih kursi tanpa harus ...   \n",
       "3                                  Pelayanannya baik   \n",
       "4                                    sangat membantu   \n",
       "\n",
       "                                        cleaned_text  \\\n",
       "0  bug aman aplikasi lama tidak buka mau buka sel...   \n",
       "1  armada sangat sedikit butuh waktu lama tunggu ...   \n",
       "2    sangat bantu bisa pilih kursi harus pergi loket   \n",
       "3                                         layan baik   \n",
       "4                                       sangat bantu   \n",
       "\n",
       "                                  tokenized_raw_text  \\\n",
       "0  ['bug', 'keamanan', 'aplikasi', 'lama', 'ga', ...   \n",
       "1  ['armada', 'sangat', 'sedikit', 'butuh', 'wakt...   \n",
       "2  ['sangat', 'membantubisa', 'pilih', 'kursi', '...   \n",
       "3                           ['pelayanannya', 'baik']   \n",
       "4                             ['sangat', 'membantu']   \n",
       "\n",
       "                         tokenized_preprocessed_text  score  thumbsUpCount  \\\n",
       "0  ['bug', 'aman', 'aplikasi', 'lama', 'tidak', '...      2              0   \n",
       "1  ['armada', 'sangat', 'sedikit', 'butuh', 'wakt...      2              0   \n",
       "2  ['sangat', 'membantubisa', 'pilih', 'kursi', '...      5              0   \n",
       "3                                  ['layan', 'baik']      5              0   \n",
       "4                                ['sangat', 'bantu']      5              0   \n",
       "\n",
       "  reviewCreatedVersion                   at replyContent repliedAt  sentiment  \n",
       "0                4.5.4  2025-09-19 20:37:03          NaN       NaN          0  \n",
       "1                  NaN  2025-09-18 19:32:01          NaN       NaN          0  \n",
       "2                  NaN  2025-09-16 17:30:00          NaN       NaN          1  \n",
       "3                  NaN  2025-09-16 15:38:28          NaN       NaN          1  \n",
       "4                4.5.4  2025-09-15 15:31:35          NaN       NaN          1  "
      ]
     },
     "execution_count": 141,
     "metadata": {},
     "output_type": "execute_result"
    }
   ],
   "source": [
    "# get sentiment\n",
    "df_damri['sentiment'] = df_damri['score'].apply(lambda x : 1 if x >= 4 else 0)\n",
    "df_damri.head()"
   ]
  },
  {
   "cell_type": "code",
   "execution_count": 142,
   "id": "babfbf51",
   "metadata": {},
   "outputs": [
    {
     "data": {
      "image/png": "[encoded data removed]",
      "text/plain": [
       "<Figure size 640x480 with 1 Axes>"
      ]
     },
     "metadata": {},
     "output_type": "display_data"
    },
    {
     "name": "stdout",
     "output_type": "stream",
     "text": [
      "count    4945.000000\n",
      "mean       53.855005\n",
      "std        61.599134\n",
      "min         0.000000\n",
      "25%        12.000000\n",
      "50%        33.000000\n",
      "75%        72.000000\n",
      "max       447.000000\n",
      "dtype: float64\n"
     ]
    },
    {
     "data": {
      "image/png": "[encoded data removed]",
      "text/plain": [
       "<Figure size 700x400 with 1 Axes>"
      ]
     },
     "metadata": {},
     "output_type": "display_data"
    }
   ],
   "source": [
    "# Simple EDA\n",
    "class EDA():\n",
    "    def get_length_dist(self,data):\n",
    "        rev_len = [len(i) for i in data]\n",
    "        pd.Series(rev_len).hist()\n",
    "        plt.title('Number of types of commets')\n",
    "        plt.xlabel('length')\n",
    "        plt.ylabel('number')\n",
    "        plt.show()\n",
    "        print(pd.Series(rev_len).describe())\n",
    "    def get_class_dist(self,df):\n",
    "        df['sentiment'].replace({1:'positive',0:'negative'}).value_counts().plot(kind='bar',figsize=(7,4))\n",
    "        plt.title('Number of types')\n",
    "        plt.xlabel('Comment_type')\n",
    "        plt.ylabel('number')\n",
    "        plt.show()\n",
    "\n",
    "eda = EDA()\n",
    "eda.get_length_dist(df_damri['cleaned_text'])\n",
    "eda.get_class_dist(df_damri)"
   ]
  },
  {
   "cell_type": "markdown",
   "id": "68754c05",
   "metadata": {},
   "source": [
    "### Split the data"
   ]
  },
  {
   "cell_type": "code",
   "execution_count": 143,
   "id": "7577195f",
   "metadata": {},
   "outputs": [],
   "source": [
    "x = df_damri['cleaned_text']\n",
    "Y = df_damri['sentiment']"
   ]
  },
  {
   "cell_type": "code",
   "execution_count": 144,
   "id": "7c259733",
   "metadata": {},
   "outputs": [],
   "source": [
    "xtrain, xtest, ytrain, ytest = train_test_split(x, Y, test_size=0.2, random_state=42)"
   ]
  },
  {
   "cell_type": "markdown",
   "id": "57a8d531",
   "metadata": {},
   "source": [
    "### Display words count"
   ]
  },
  {
   "cell_type": "code",
   "execution_count": 145,
   "id": "9a371d75",
   "metadata": {},
   "outputs": [
    {
     "data": {
      "text/plain": [
       "['tidak',\n",
       " 'aplikasi',\n",
       " 'damri',\n",
       " 'tiket',\n",
       " 'sangat',\n",
       " 'bantu',\n",
       " 'mudah',\n",
       " 'baik',\n",
       " 'mau',\n",
       " 'bagus']"
      ]
     },
     "execution_count": 145,
     "metadata": {},
     "output_type": "execute_result"
    }
   ],
   "source": [
    "\n",
    "from collections import Counter\n",
    "word_counts = Counter(' '.join(xtrain).split())\n",
    "vocab = [word for word, count in word_counts.most_common()]\n",
    "vocab[0:10]"
   ]
  },
  {
   "cell_type": "markdown",
   "id": "42d6dfc4",
   "metadata": {},
   "source": [
    "### TF-IDF Vectorization"
   ]
  },
  {
   "cell_type": "code",
   "execution_count": 146,
   "id": "19d6a0c2",
   "metadata": {},
   "outputs": [],
   "source": [
    "batch_size = 1000"
   ]
  },
  {
   "cell_type": "code",
   "execution_count": 147,
   "id": "265d9b95",
   "metadata": {},
   "outputs": [],
   "source": [
    "tfidf_vectorizer = TfidfVectorizer(max_features=5000)"
   ]
  },
  {
   "cell_type": "code",
   "execution_count": 148,
   "id": "423b5dd1",
   "metadata": {},
   "outputs": [
    {
     "name": "stdout",
     "output_type": "stream",
     "text": [
      "TF-IDF Vectorization Time: 0.04454502299995511\n"
     ]
    }
   ],
   "source": [
    "start = timer()\n",
    "X_train_tfidf = tfidf_vectorizer.fit_transform(xtrain)\n",
    "X_test_tfidf = tfidf_vectorizer.transform(xtest)\n",
    "print(\"TF-IDF Vectorization Time:\", timer() - start)"
   ]
  },
  {
   "cell_type": "code",
   "execution_count": 149,
   "id": "55b49d1b",
   "metadata": {},
   "outputs": [
    {
     "name": "stdout",
     "output_type": "stream",
     "text": [
      "Required time for embedding TFIDF with train data:-  0.0741077340026095\n"
     ]
    }
   ],
   "source": [
    "# Vectorize train data\n",
    "start = timer()\n",
    "tfidf_vectorizer_xtrain = []\n",
    "for i in range(0, len(xtrain), batch_size):\n",
    "    batch_X_train = xtrain[i:i + batch_size]\n",
    "    batch_X_train_tfidf = tfidf_vectorizer.fit_transform(batch_X_train)\n",
    "    tfidf_vectorizer_xtrain.extend(batch_X_train_tfidf.toarray())\n",
    "print('Required time for embedding TFIDF with train data:- ', timer() - start)"
   ]
  },
  {
   "cell_type": "code",
   "execution_count": 150,
   "id": "5c77553d",
   "metadata": {},
   "outputs": [
    {
     "name": "stdout",
     "output_type": "stream",
     "text": [
      "Required time for embedding TFIDF with train data:-  0.01785061900227447\n"
     ]
    }
   ],
   "source": [
    "# Vectorize test data\n",
    "start = timer()\n",
    "tfidf_vectorizer_xtest = []\n",
    "for i in range(0, len(xtest), batch_size):\n",
    "    batch_X_test = xtest[i:i + batch_size]\n",
    "    batch_X_test_tfidf = tfidf_vectorizer.transform(batch_X_test)\n",
    "    tfidf_vectorizer_xtest.extend(batch_X_test_tfidf.toarray())\n",
    "print('Required time for embedding TFIDF with train data:- ', timer() - start)"
   ]
  },
  {
   "cell_type": "code",
   "execution_count": 151,
   "id": "eb90faef",
   "metadata": {},
   "outputs": [],
   "source": [
    "def evaluate_model(model, X_test, y_test, name=\"Model\"):\n",
    "    y_pred = model.predict(X_test)\n",
    "    acc = accuracy_score(y_test, y_pred)\n",
    "    prec = precision_score(y_test, y_pred)\n",
    "    rec = recall_score(y_test, y_pred)\n",
    "    f1 = f1_score(y_test, y_pred)\n",
    "    print(f\"\\n{name} Results:\")\n",
    "    print(f\"Accuracy: {acc:.4f} | Precision: {prec:.4f} | Recall: {rec:.4f} | F1 Score: {f1:.4f}\")\n",
    "    print(\"Classification Report:\\n\", classification_report(y_test, y_pred))\n",
    "    return acc"
   ]
  },
  {
   "cell_type": "markdown",
   "id": "43776c32",
   "metadata": {},
   "source": [
    "### Linear SVM Classification"
   ]
  },
  {
   "cell_type": "code",
   "execution_count": 152,
   "id": "6f0bc96f",
   "metadata": {},
   "outputs": [],
   "source": [
    "svm_classifier = LinearSVC()"
   ]
  },
  {
   "cell_type": "code",
   "execution_count": 153,
   "id": "0062e305",
   "metadata": {},
   "outputs": [
    {
     "name": "stdout",
     "output_type": "stream",
     "text": [
      "Required time for training Linear SVM classifiers:-  0.011648477000562707\n"
     ]
    }
   ],
   "source": [
    "start = timer()\n",
    "svm_tfidf = svm_classifier.fit(X_train_tfidf, ytrain)\n",
    "print('Required time for training Linear SVM classifiers:- ', timer() - start)"
   ]
  },
  {
   "cell_type": "code",
   "execution_count": 154,
   "id": "709032a3",
   "metadata": {},
   "outputs": [
    {
     "name": "stdout",
     "output_type": "stream",
     "text": [
      "\n",
      "Linear SVM Results:\n",
      "Accuracy: 0.8827 | Precision: 0.8908 | Recall: 0.9036 | F1 Score: 0.8972\n",
      "Classification Report:\n",
      "               precision    recall  f1-score   support\n",
      "\n",
      "           0       0.87      0.86      0.86       429\n",
      "           1       0.89      0.90      0.90       560\n",
      "\n",
      "    accuracy                           0.88       989\n",
      "   macro avg       0.88      0.88      0.88       989\n",
      "weighted avg       0.88      0.88      0.88       989\n",
      "\n"
     ]
    }
   ],
   "source": [
    "acc_svm = evaluate_model(svm_tfidf, X_test_tfidf, ytest, \"Linear SVM\")"
   ]
  },
  {
   "cell_type": "markdown",
   "id": "b7241692",
   "metadata": {},
   "source": [
    "### Logistic Regression Classification"
   ]
  },
  {
   "cell_type": "code",
   "execution_count": 155,
   "id": "0c164e54",
   "metadata": {},
   "outputs": [],
   "source": [
    "lr_classifier = LogisticRegression(max_iter=1000)"
   ]
  },
  {
   "cell_type": "code",
   "execution_count": 156,
   "id": "590c4ccb",
   "metadata": {},
   "outputs": [
    {
     "name": "stdout",
     "output_type": "stream",
     "text": [
      "Required time for training Logistic Regression classifiers:-  0.028331371999229304\n"
     ]
    }
   ],
   "source": [
    "start = timer()\n",
    "lr_tfidf = lr_classifier.fit(X_train_tfidf, ytrain)\n",
    "print('Required time for training Logistic Regression classifiers:- ', timer() - start)"
   ]
  },
  {
   "cell_type": "code",
   "execution_count": 157,
   "id": "cee98114",
   "metadata": {},
   "outputs": [
    {
     "name": "stdout",
     "output_type": "stream",
     "text": [
      "\n",
      "Logistic Regression Results:\n",
      "Accuracy: 0.8878 | Precision: 0.9002 | Recall: 0.9018 | F1 Score: 0.9010\n",
      "Classification Report:\n",
      "               precision    recall  f1-score   support\n",
      "\n",
      "           0       0.87      0.87      0.87       429\n",
      "           1       0.90      0.90      0.90       560\n",
      "\n",
      "    accuracy                           0.89       989\n",
      "   macro avg       0.89      0.89      0.89       989\n",
      "weighted avg       0.89      0.89      0.89       989\n",
      "\n"
     ]
    }
   ],
   "source": [
    "acc_lr = evaluate_model(lr_tfidf, X_test_tfidf, ytest, \"Logistic Regression\")"
   ]
  },
  {
   "cell_type": "markdown",
   "id": "170f29df",
   "metadata": {},
   "source": [
    "### Multinomial Naive Bayes Classification"
   ]
  },
  {
   "cell_type": "code",
   "execution_count": 158,
   "id": "1953ecab",
   "metadata": {},
   "outputs": [],
   "source": [
    "mnb_classifier = MultinomialNB()"
   ]
  },
  {
   "cell_type": "code",
   "execution_count": 159,
   "id": "6881df01",
   "metadata": {},
   "outputs": [
    {
     "name": "stdout",
     "output_type": "stream",
     "text": [
      "Required time for training Multinomial Naive bayes classifiers:-  0.0038685639992763754\n"
     ]
    }
   ],
   "source": [
    "start = timer()\n",
    "mnb_tfidf = mnb_classifier.fit(X_train_tfidf, ytrain)\n",
    "print('Required time for training Multinomial Naive bayes classifiers:- ', timer() - start)"
   ]
  },
  {
   "cell_type": "code",
   "execution_count": 160,
   "id": "1f8f306e",
   "metadata": {},
   "outputs": [
    {
     "name": "stdout",
     "output_type": "stream",
     "text": [
      "\n",
      "Multinomial Naive Bayes Results:\n",
      "Accuracy: 0.8948 | Precision: 0.9161 | Recall: 0.8964 | F1 Score: 0.9061\n",
      "Classification Report:\n",
      "               precision    recall  f1-score   support\n",
      "\n",
      "           0       0.87      0.89      0.88       429\n",
      "           1       0.92      0.90      0.91       560\n",
      "\n",
      "    accuracy                           0.89       989\n",
      "   macro avg       0.89      0.89      0.89       989\n",
      "weighted avg       0.90      0.89      0.89       989\n",
      "\n"
     ]
    }
   ],
   "source": [
    "acc_mnb = evaluate_model(mnb_tfidf, X_test_tfidf, ytest, \"Multinomial Naive Bayes\")"
   ]
  },
  {
   "cell_type": "markdown",
   "id": "1cc072d9",
   "metadata": {},
   "source": [
    "### XGBoost Classification"
   ]
  },
  {
   "cell_type": "code",
   "execution_count": 161,
   "id": "53d1f823",
   "metadata": {},
   "outputs": [],
   "source": [
    "xgb_classifier = XGBClassifier(eval_metric='logloss')"
   ]
  },
  {
   "cell_type": "code",
   "execution_count": 162,
   "id": "32c21bea",
   "metadata": {},
   "outputs": [
    {
     "name": "stdout",
     "output_type": "stream",
     "text": [
      "Required time for training XGBoost classifiers:-  1.494073584999569\n"
     ]
    }
   ],
   "source": [
    "start = timer()\n",
    "xgb_tfidf = xgb_classifier.fit(X_train_tfidf, ytrain)\n",
    "print('Required time for training XGBoost classifiers:- ', timer() - start)"
   ]
  },
  {
   "cell_type": "code",
   "execution_count": 163,
   "id": "bc057bc4",
   "metadata": {},
   "outputs": [
    {
     "name": "stdout",
     "output_type": "stream",
     "text": [
      "\n",
      "XGBoost Results:\n",
      "Accuracy: 0.8655 | Precision: 0.8675 | Recall: 0.9000 | F1 Score: 0.8834\n",
      "Classification Report:\n",
      "               precision    recall  f1-score   support\n",
      "\n",
      "           0       0.86      0.82      0.84       429\n",
      "           1       0.87      0.90      0.88       560\n",
      "\n",
      "    accuracy                           0.87       989\n",
      "   macro avg       0.87      0.86      0.86       989\n",
      "weighted avg       0.87      0.87      0.87       989\n",
      "\n"
     ]
    }
   ],
   "source": [
    "acc_xgb = evaluate_model(xgb_tfidf, X_test_tfidf, ytest, \"XGBoost\")"
   ]
  },
  {
   "cell_type": "markdown",
   "id": "ef87c878",
   "metadata": {},
   "source": [
    "### Random Forest Classification"
   ]
  },
  {
   "cell_type": "code",
   "execution_count": 164,
   "id": "79d42522",
   "metadata": {},
   "outputs": [],
   "source": [
    "rf_classifier = RandomForestClassifier(n_estimators=150, max_depth=35, max_features='sqrt', min_samples_leaf=4, bootstrap=True, n_jobs=-1)"
   ]
  },
  {
   "cell_type": "code",
   "execution_count": 165,
   "id": "1dc866de",
   "metadata": {},
   "outputs": [
    {
     "name": "stdout",
     "output_type": "stream",
     "text": [
      "Required time for training Random Forest classifiers:-  0.3513221290013462\n"
     ]
    }
   ],
   "source": [
    "start = timer()\n",
    "rf_tfidf = rf_classifier.fit(X_train_tfidf, ytrain)\n",
    "print('Required time for training Random Forest classifiers:- ', timer() - start)"
   ]
  },
  {
   "cell_type": "code",
   "execution_count": 166,
   "id": "64538283",
   "metadata": {},
   "outputs": [
    {
     "name": "stdout",
     "output_type": "stream",
     "text": [
      "\n",
      "Random Forest Results:\n",
      "Accuracy: 0.8574 | Precision: 0.8451 | Recall: 0.9161 | F1 Score: 0.8792\n",
      "Classification Report:\n",
      "               precision    recall  f1-score   support\n",
      "\n",
      "           0       0.88      0.78      0.83       429\n",
      "           1       0.85      0.92      0.88       560\n",
      "\n",
      "    accuracy                           0.86       989\n",
      "   macro avg       0.86      0.85      0.85       989\n",
      "weighted avg       0.86      0.86      0.86       989\n",
      "\n"
     ]
    }
   ],
   "source": [
    "acc_rf = evaluate_model(rf_tfidf, X_test_tfidf, ytest, \"Random Forest\")"
   ]
  },
  {
   "cell_type": "markdown",
   "id": "e130f545",
   "metadata": {},
   "source": [
    "### Model Comparison"
   ]
  },
  {
   "cell_type": "code",
   "execution_count": 167,
   "id": "88c26a42",
   "metadata": {},
   "outputs": [
    {
     "data": {
      "image/png": "[encoded data removed]",
      "text/plain": [
       "<Figure size 1000x600 with 1 Axes>"
      ]
     },
     "metadata": {},
     "output_type": "display_data"
    }
   ],
   "source": [
    "model_names = ['SVM', 'LogReg', 'Multinomial Naive Bayes', 'XGBoost', 'RandomForest']\n",
    "accuracies = [acc_svm, acc_lr, acc_mnb, acc_xgb, acc_rf]\n",
    "\n",
    "plt.figure(figsize=(10, 6))\n",
    "plt.bar(model_names, accuracies)\n",
    "plt.xlabel(\"Models\")\n",
    "plt.ylabel(\"Accuracy\")\n",
    "plt.title(\"Model Accuracy Comparison with TF-IDF\")\n",
    "plt.ylim(0.0, 1.0)\n",
    "plt.grid(axis='y', linestyle='--', alpha=0.7)\n",
    "plt.show()"
   ]
  }
 ],
 "metadata": {
  "kernelspec": {
   "display_name": "py11",
   "language": "python",
   "name": "python3"
  },
  "language_info": {
   "codemirror_mode": {
    "name": "ipython",
    "version": 3
   },
   "file_extension": ".py",
   "mimetype": "text/x-python",
   "name": "python",
   "nbconvert_exporter": "python",
   "pygments_lexer": "ipython3",
   "version": "3.11.13"
  }
 },
 "nbformat": 4,
 "nbformat_minor": 5
}
