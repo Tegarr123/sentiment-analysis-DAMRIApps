{
 "cells": [
  {
   "cell_type": "code",
   "execution_count": 109,
   "id": "2e2c63eb",
   "metadata": {},
   "outputs": [],
   "source": [
    "import pandas as pd\n",
    "from sklearn.model_selection import train_test_split\n",
    "from sklearn.feature_extraction.text import TfidfVectorizer\n",
    "import matplotlib.pyplot as plt\n",
    "from sklearn.svm import LinearSVC\n",
    "from sklearn.linear_model import LogisticRegression\n",
    "from sklearn.naive_bayes import MultinomialNB\n",
    "from xgboost import XGBClassifier\n",
    "from sklearn.ensemble import RandomForestClassifier\n",
    "from sklearn.metrics import accuracy_score, precision_score, recall_score, f1_score, classification_report, confusion_matrix\n",
    "from timeit import default_timer as timer"
   ]
  },
  {
   "cell_type": "code",
   "execution_count": 110,
   "id": "a8562411",
   "metadata": {},
   "outputs": [
    {
     "data": {
      "text/html": [
       "<div>\n",
       "<style scoped>\n",
       "    .dataframe tbody tr th:only-of-type {\n",
       "        vertical-align: middle;\n",
       "    }\n",
       "\n",
       "    .dataframe tbody tr th {\n",
       "        vertical-align: top;\n",
       "    }\n",
       "\n",
       "    .dataframe thead th {\n",
       "        text-align: right;\n",
       "    }\n",
       "</style>\n",
       "<table border=\"1\" class=\"dataframe\">\n",
       "  <thead>\n",
       "    <tr style=\"text-align: right;\">\n",
       "      <th></th>\n",
       "      <th>content</th>\n",
       "      <th>cleaned_text</th>\n",
       "      <th>tokenized_raw_text</th>\n",
       "      <th>tokenized_preprocessed_text</th>\n",
       "      <th>score</th>\n",
       "      <th>thumbsUpCount</th>\n",
       "      <th>reviewCreatedVersion</th>\n",
       "      <th>at</th>\n",
       "      <th>replyContent</th>\n",
       "      <th>repliedAt</th>\n",
       "    </tr>\n",
       "  </thead>\n",
       "  <tbody>\n",
       "    <tr>\n",
       "      <th>0</th>\n",
       "      <td>gabisa beli tiket jir</td>\n",
       "      <td>gabisa beli tiket jir</td>\n",
       "      <td>['gabisa', 'beli', 'tiket', 'jir']</td>\n",
       "      <td>['gabisa', 'beli', 'tiket', 'jir']</td>\n",
       "      <td>1</td>\n",
       "      <td>0</td>\n",
       "      <td>4.5.2</td>\n",
       "      <td>2025-09-04 11:13:20</td>\n",
       "      <td>NaN</td>\n",
       "      <td>NaN</td>\n",
       "    </tr>\n",
       "    <tr>\n",
       "      <th>1</th>\n",
       "      <td>good banget,simple dengan pemesanan tiket via ...</td>\n",
       "      <td>good bangetsimple mesan tiket via aplikasi adm...</td>\n",
       "      <td>['good', 'bangetsimple', 'dengan', 'pemesanan'...</td>\n",
       "      <td>['good', 'bangetsimple', 'mesan', 'tiket', 'vi...</td>\n",
       "      <td>5</td>\n",
       "      <td>0</td>\n",
       "      <td>4.5.2</td>\n",
       "      <td>2025-09-03 06:31:04</td>\n",
       "      <td>NaN</td>\n",
       "      <td>NaN</td>\n",
       "    </tr>\n",
       "    <tr>\n",
       "      <th>2</th>\n",
       "      <td>mau ngecek ongkir kirim paket ga tersedia.. pa...</td>\n",
       "      <td>mau ngecek ongkir kirim paket tidak sedia pada...</td>\n",
       "      <td>['mau', 'ngecek', 'ongkir', 'kirim', 'paket', ...</td>\n",
       "      <td>['mau', 'ngecek', 'ongkir', 'kirim', 'paket', ...</td>\n",
       "      <td>1</td>\n",
       "      <td>0</td>\n",
       "      <td>4.5.2</td>\n",
       "      <td>2025-09-02 17:06:03</td>\n",
       "      <td>NaN</td>\n",
       "      <td>NaN</td>\n",
       "    </tr>\n",
       "    <tr>\n",
       "      <th>3</th>\n",
       "      <td>nyaman banget naik bus damri dari jagakarsa ke...</td>\n",
       "      <td>nyaman banget naik bus damri jagakarsa airport...</td>\n",
       "      <td>['nyaman', 'banget', 'naik', 'bus', 'damri', '...</td>\n",
       "      <td>['nyaman', 'banget', 'naik', 'bus', 'damri', '...</td>\n",
       "      <td>5</td>\n",
       "      <td>0</td>\n",
       "      <td>4.5.1</td>\n",
       "      <td>2025-09-02 07:13:14</td>\n",
       "      <td>NaN</td>\n",
       "      <td>NaN</td>\n",
       "    </tr>\n",
       "    <tr>\n",
       "      <th>4</th>\n",
       "      <td>ini kenapa nik saya gk bisa buat daftar</td>\n",
       "      <td>kenapa nik tidak buat daftar</td>\n",
       "      <td>['ini', 'kenapa', 'nik', 'saya', 'gk', 'bisa',...</td>\n",
       "      <td>['kenapa', 'nik', 'tidak', 'buat', 'daftar']</td>\n",
       "      <td>3</td>\n",
       "      <td>0</td>\n",
       "      <td>NaN</td>\n",
       "      <td>2025-08-31 07:00:03</td>\n",
       "      <td>NaN</td>\n",
       "      <td>NaN</td>\n",
       "    </tr>\n",
       "  </tbody>\n",
       "</table>\n",
       "</div>"
      ],
      "text/plain": [
       "                                             content  \\\n",
       "0                              gabisa beli tiket jir   \n",
       "1  good banget,simple dengan pemesanan tiket via ...   \n",
       "2  mau ngecek ongkir kirim paket ga tersedia.. pa...   \n",
       "3  nyaman banget naik bus damri dari jagakarsa ke...   \n",
       "4            ini kenapa nik saya gk bisa buat daftar   \n",
       "\n",
       "                                        cleaned_text  \\\n",
       "0                              gabisa beli tiket jir   \n",
       "1  good bangetsimple mesan tiket via aplikasi adm...   \n",
       "2  mau ngecek ongkir kirim paket tidak sedia pada...   \n",
       "3  nyaman banget naik bus damri jagakarsa airport...   \n",
       "4                       kenapa nik tidak buat daftar   \n",
       "\n",
       "                                  tokenized_raw_text  \\\n",
       "0                 ['gabisa', 'beli', 'tiket', 'jir']   \n",
       "1  ['good', 'bangetsimple', 'dengan', 'pemesanan'...   \n",
       "2  ['mau', 'ngecek', 'ongkir', 'kirim', 'paket', ...   \n",
       "3  ['nyaman', 'banget', 'naik', 'bus', 'damri', '...   \n",
       "4  ['ini', 'kenapa', 'nik', 'saya', 'gk', 'bisa',...   \n",
       "\n",
       "                         tokenized_preprocessed_text  score  thumbsUpCount  \\\n",
       "0                 ['gabisa', 'beli', 'tiket', 'jir']      1              0   \n",
       "1  ['good', 'bangetsimple', 'mesan', 'tiket', 'vi...      5              0   \n",
       "2  ['mau', 'ngecek', 'ongkir', 'kirim', 'paket', ...      1              0   \n",
       "3  ['nyaman', 'banget', 'naik', 'bus', 'damri', '...      5              0   \n",
       "4       ['kenapa', 'nik', 'tidak', 'buat', 'daftar']      3              0   \n",
       "\n",
       "  reviewCreatedVersion                   at replyContent repliedAt  \n",
       "0                4.5.2  2025-09-04 11:13:20          NaN       NaN  \n",
       "1                4.5.2  2025-09-03 06:31:04          NaN       NaN  \n",
       "2                4.5.2  2025-09-02 17:06:03          NaN       NaN  \n",
       "3                4.5.1  2025-09-02 07:13:14          NaN       NaN  \n",
       "4                  NaN  2025-08-31 07:00:03          NaN       NaN  "
      ]
     },
     "execution_count": 110,
     "metadata": {},
     "output_type": "execute_result"
    }
   ],
   "source": [
    "# get the data\n",
    "df_damri = pd.read_csv(\"../data/damri_apps_preprocessed.csv\")\n",
    "df_damri['cleaned_text'].fillna('', inplace=True)\n",
    "df_damri.head()\n",
    "\n"
   ]
  },
  {
   "cell_type": "code",
   "execution_count": 111,
   "id": "053cc9cd",
   "metadata": {},
   "outputs": [
    {
     "data": {
      "text/html": [
       "<div>\n",
       "<style scoped>\n",
       "    .dataframe tbody tr th:only-of-type {\n",
       "        vertical-align: middle;\n",
       "    }\n",
       "\n",
       "    .dataframe tbody tr th {\n",
       "        vertical-align: top;\n",
       "    }\n",
       "\n",
       "    .dataframe thead th {\n",
       "        text-align: right;\n",
       "    }\n",
       "</style>\n",
       "<table border=\"1\" class=\"dataframe\">\n",
       "  <thead>\n",
       "    <tr style=\"text-align: right;\">\n",
       "      <th></th>\n",
       "      <th>content</th>\n",
       "      <th>cleaned_text</th>\n",
       "      <th>tokenized_raw_text</th>\n",
       "      <th>tokenized_preprocessed_text</th>\n",
       "      <th>score</th>\n",
       "      <th>thumbsUpCount</th>\n",
       "      <th>reviewCreatedVersion</th>\n",
       "      <th>at</th>\n",
       "      <th>replyContent</th>\n",
       "      <th>repliedAt</th>\n",
       "      <th>sentiment</th>\n",
       "    </tr>\n",
       "  </thead>\n",
       "  <tbody>\n",
       "    <tr>\n",
       "      <th>0</th>\n",
       "      <td>gabisa beli tiket jir</td>\n",
       "      <td>gabisa beli tiket jir</td>\n",
       "      <td>['gabisa', 'beli', 'tiket', 'jir']</td>\n",
       "      <td>['gabisa', 'beli', 'tiket', 'jir']</td>\n",
       "      <td>1</td>\n",
       "      <td>0</td>\n",
       "      <td>4.5.2</td>\n",
       "      <td>2025-09-04 11:13:20</td>\n",
       "      <td>NaN</td>\n",
       "      <td>NaN</td>\n",
       "      <td>0</td>\n",
       "    </tr>\n",
       "    <tr>\n",
       "      <th>1</th>\n",
       "      <td>good banget,simple dengan pemesanan tiket via ...</td>\n",
       "      <td>good bangetsimple mesan tiket via aplikasi adm...</td>\n",
       "      <td>['good', 'bangetsimple', 'dengan', 'pemesanan'...</td>\n",
       "      <td>['good', 'bangetsimple', 'mesan', 'tiket', 'vi...</td>\n",
       "      <td>5</td>\n",
       "      <td>0</td>\n",
       "      <td>4.5.2</td>\n",
       "      <td>2025-09-03 06:31:04</td>\n",
       "      <td>NaN</td>\n",
       "      <td>NaN</td>\n",
       "      <td>1</td>\n",
       "    </tr>\n",
       "    <tr>\n",
       "      <th>2</th>\n",
       "      <td>mau ngecek ongkir kirim paket ga tersedia.. pa...</td>\n",
       "      <td>mau ngecek ongkir kirim paket tidak sedia pada...</td>\n",
       "      <td>['mau', 'ngecek', 'ongkir', 'kirim', 'paket', ...</td>\n",
       "      <td>['mau', 'ngecek', 'ongkir', 'kirim', 'paket', ...</td>\n",
       "      <td>1</td>\n",
       "      <td>0</td>\n",
       "      <td>4.5.2</td>\n",
       "      <td>2025-09-02 17:06:03</td>\n",
       "      <td>NaN</td>\n",
       "      <td>NaN</td>\n",
       "      <td>0</td>\n",
       "    </tr>\n",
       "    <tr>\n",
       "      <th>3</th>\n",
       "      <td>nyaman banget naik bus damri dari jagakarsa ke...</td>\n",
       "      <td>nyaman banget naik bus damri jagakarsa airport...</td>\n",
       "      <td>['nyaman', 'banget', 'naik', 'bus', 'damri', '...</td>\n",
       "      <td>['nyaman', 'banget', 'naik', 'bus', 'damri', '...</td>\n",
       "      <td>5</td>\n",
       "      <td>0</td>\n",
       "      <td>4.5.1</td>\n",
       "      <td>2025-09-02 07:13:14</td>\n",
       "      <td>NaN</td>\n",
       "      <td>NaN</td>\n",
       "      <td>1</td>\n",
       "    </tr>\n",
       "    <tr>\n",
       "      <th>4</th>\n",
       "      <td>ini kenapa nik saya gk bisa buat daftar</td>\n",
       "      <td>kenapa nik tidak buat daftar</td>\n",
       "      <td>['ini', 'kenapa', 'nik', 'saya', 'gk', 'bisa',...</td>\n",
       "      <td>['kenapa', 'nik', 'tidak', 'buat', 'daftar']</td>\n",
       "      <td>3</td>\n",
       "      <td>0</td>\n",
       "      <td>NaN</td>\n",
       "      <td>2025-08-31 07:00:03</td>\n",
       "      <td>NaN</td>\n",
       "      <td>NaN</td>\n",
       "      <td>0</td>\n",
       "    </tr>\n",
       "  </tbody>\n",
       "</table>\n",
       "</div>"
      ],
      "text/plain": [
       "                                             content  \\\n",
       "0                              gabisa beli tiket jir   \n",
       "1  good banget,simple dengan pemesanan tiket via ...   \n",
       "2  mau ngecek ongkir kirim paket ga tersedia.. pa...   \n",
       "3  nyaman banget naik bus damri dari jagakarsa ke...   \n",
       "4            ini kenapa nik saya gk bisa buat daftar   \n",
       "\n",
       "                                        cleaned_text  \\\n",
       "0                              gabisa beli tiket jir   \n",
       "1  good bangetsimple mesan tiket via aplikasi adm...   \n",
       "2  mau ngecek ongkir kirim paket tidak sedia pada...   \n",
       "3  nyaman banget naik bus damri jagakarsa airport...   \n",
       "4                       kenapa nik tidak buat daftar   \n",
       "\n",
       "                                  tokenized_raw_text  \\\n",
       "0                 ['gabisa', 'beli', 'tiket', 'jir']   \n",
       "1  ['good', 'bangetsimple', 'dengan', 'pemesanan'...   \n",
       "2  ['mau', 'ngecek', 'ongkir', 'kirim', 'paket', ...   \n",
       "3  ['nyaman', 'banget', 'naik', 'bus', 'damri', '...   \n",
       "4  ['ini', 'kenapa', 'nik', 'saya', 'gk', 'bisa',...   \n",
       "\n",
       "                         tokenized_preprocessed_text  score  thumbsUpCount  \\\n",
       "0                 ['gabisa', 'beli', 'tiket', 'jir']      1              0   \n",
       "1  ['good', 'bangetsimple', 'mesan', 'tiket', 'vi...      5              0   \n",
       "2  ['mau', 'ngecek', 'ongkir', 'kirim', 'paket', ...      1              0   \n",
       "3  ['nyaman', 'banget', 'naik', 'bus', 'damri', '...      5              0   \n",
       "4       ['kenapa', 'nik', 'tidak', 'buat', 'daftar']      3              0   \n",
       "\n",
       "  reviewCreatedVersion                   at replyContent repliedAt  sentiment  \n",
       "0                4.5.2  2025-09-04 11:13:20          NaN       NaN          0  \n",
       "1                4.5.2  2025-09-03 06:31:04          NaN       NaN          1  \n",
       "2                4.5.2  2025-09-02 17:06:03          NaN       NaN          0  \n",
       "3                4.5.1  2025-09-02 07:13:14          NaN       NaN          1  \n",
       "4                  NaN  2025-08-31 07:00:03          NaN       NaN          0  "
      ]
     },
     "execution_count": 111,
     "metadata": {},
     "output_type": "execute_result"
    }
   ],
   "source": [
    "# get sentiment\n",
    "df_damri['sentiment'] = df_damri['score'].apply(lambda x : 1 if x >= 4 else 0)\n",
    "df_damri.head()"
   ]
  },
  {
   "cell_type": "code",
   "execution_count": 112,
   "id": "babfbf51",
   "metadata": {},
   "outputs": [
    {
     "data": {
      "image/png": "[encoded data removed]",
      "text/plain": [
       "<Figure size 640x480 with 1 Axes>"
      ]
     },
     "metadata": {},
     "output_type": "display_data"
    },
    {
     "name": "stdout",
     "output_type": "stream",
     "text": [
      "count    4934.000000\n",
      "mean       53.778071\n",
      "std        61.458092\n",
      "min         0.000000\n",
      "25%        12.000000\n",
      "50%        33.000000\n",
      "75%        72.000000\n",
      "max       447.000000\n",
      "dtype: float64\n"
     ]
    },
    {
     "data": {
      "image/png": "[encoded data removed]",
      "text/plain": [
       "<Figure size 700x400 with 1 Axes>"
      ]
     },
     "metadata": {},
     "output_type": "display_data"
    }
   ],
   "source": [
    "# Simple EDA\n",
    "class EDA():\n",
    "    def get_length_dist(self,data):\n",
    "        rev_len = [len(i) for i in data]\n",
    "        pd.Series(rev_len).hist()\n",
    "        plt.title('Number of types of commets')\n",
    "        plt.xlabel('length')\n",
    "        plt.ylabel('number')\n",
    "        plt.show()\n",
    "        print(pd.Series(rev_len).describe())\n",
    "    def get_class_dist(self,df):\n",
    "        df['sentiment'].replace({1:'positive',0:'negative'}).value_counts().plot(kind='bar',figsize=(7,4))\n",
    "        plt.title('Number of types')\n",
    "        plt.xlabel('Comment_type')\n",
    "        plt.ylabel('number')\n",
    "        plt.show()\n",
    "\n",
    "eda = EDA()\n",
    "eda.get_length_dist(df_damri['cleaned_text'])\n",
    "eda.get_class_dist(df_damri)"
   ]
  },
  {
   "cell_type": "markdown",
   "id": "68754c05",
   "metadata": {},
   "source": [
    "### Split the data"
   ]
  },
  {
   "cell_type": "code",
   "execution_count": 113,
   "id": "7577195f",
   "metadata": {},
   "outputs": [],
   "source": [
    "x = df_damri['cleaned_text']\n",
    "Y = df_damri['sentiment']"
   ]
  },
  {
   "cell_type": "code",
   "execution_count": 114,
   "id": "7c259733",
   "metadata": {},
   "outputs": [],
   "source": [
    "xtrain, xtest, ytrain, ytest = train_test_split(x, Y, test_size=0.2, random_state=42)"
   ]
  },
  {
   "cell_type": "markdown",
   "id": "57a8d531",
   "metadata": {},
   "source": [
    "### Display words count"
   ]
  },
  {
   "cell_type": "code",
   "execution_count": 138,
   "id": "9a371d75",
   "metadata": {},
   "outputs": [
    {
     "data": {
      "text/plain": [
       "['tidak',\n",
       " 'aplikasi',\n",
       " 'damri',\n",
       " 'tiket',\n",
       " 'sangat',\n",
       " 'bantu',\n",
       " 'mudah',\n",
       " 'baik',\n",
       " 'mau',\n",
       " 'bagus']"
      ]
     },
     "execution_count": 138,
     "metadata": {},
     "output_type": "execute_result"
    }
   ],
   "source": [
    "\n",
    "from collections import Counter\n",
    "word_counts = Counter(' '.join(xtrain).split())\n",
    "vocab = [word for word, count in word_counts.most_common()]\n",
    "vocab[0:10]"
   ]
  },
  {
   "cell_type": "markdown",
   "id": "42d6dfc4",
   "metadata": {},
   "source": [
    "### TF-IDF Vectorization"
   ]
  },
  {
   "cell_type": "code",
   "execution_count": 116,
   "id": "19d6a0c2",
   "metadata": {},
   "outputs": [],
   "source": [
    "batch_size = 1000"
   ]
  },
  {
   "cell_type": "code",
   "execution_count": 117,
   "id": "265d9b95",
   "metadata": {},
   "outputs": [],
   "source": [
    "tfidf_vectorizer = TfidfVectorizer(max_features=5000)"
   ]
  },
  {
   "cell_type": "code",
   "execution_count": 118,
   "id": "423b5dd1",
   "metadata": {},
   "outputs": [
    {
     "name": "stdout",
     "output_type": "stream",
     "text": [
      "TF-IDF Vectorization Time: 0.058614345001842594\n"
     ]
    }
   ],
   "source": [
    "start = timer()\n",
    "X_train_tfidf = tfidf_vectorizer.fit_transform(xtrain)\n",
    "X_test_tfidf = tfidf_vectorizer.transform(xtest)\n",
    "print(\"TF-IDF Vectorization Time:\", timer() - start)"
   ]
  },
  {
   "cell_type": "code",
   "execution_count": 119,
   "id": "55b49d1b",
   "metadata": {},
   "outputs": [
    {
     "name": "stdout",
     "output_type": "stream",
     "text": [
      "Required time for embedding TFIDF with train data:-  0.07170298300115974\n"
     ]
    }
   ],
   "source": [
    "# Vectorize train data\n",
    "start = timer()\n",
    "tfidf_vectorizer_xtrain = []\n",
    "for i in range(0, len(xtrain), batch_size):\n",
    "    batch_X_train = xtrain[i:i + batch_size]\n",
    "    batch_X_train_tfidf = tfidf_vectorizer.fit_transform(batch_X_train)\n",
    "    tfidf_vectorizer_xtrain.extend(batch_X_train_tfidf.toarray())\n",
    "print('Required time for embedding TFIDF with train data:- ', timer() - start)"
   ]
  },
  {
   "cell_type": "code",
   "execution_count": 120,
   "id": "5c77553d",
   "metadata": {},
   "outputs": [
    {
     "name": "stdout",
     "output_type": "stream",
     "text": [
      "Required time for embedding TFIDF with train data:-  0.014843761000520317\n"
     ]
    }
   ],
   "source": [
    "# Vectorize test data\n",
    "start = timer()\n",
    "tfidf_vectorizer_xtest = []\n",
    "for i in range(0, len(xtest), batch_size):\n",
    "    batch_X_test = xtest[i:i + batch_size]\n",
    "    batch_X_test_tfidf = tfidf_vectorizer.transform(batch_X_test)\n",
    "    tfidf_vectorizer_xtest.extend(batch_X_test_tfidf.toarray())\n",
    "print('Required time for embedding TFIDF with train data:- ', timer() - start)"
   ]
  },
  {
   "cell_type": "code",
   "execution_count": 121,
   "id": "eb90faef",
   "metadata": {},
   "outputs": [],
   "source": [
    "def evaluate_model(model, X_test, y_test, name=\"Model\"):\n",
    "    y_pred = model.predict(X_test)\n",
    "    acc = accuracy_score(y_test, y_pred)\n",
    "    prec = precision_score(y_test, y_pred)\n",
    "    rec = recall_score(y_test, y_pred)\n",
    "    f1 = f1_score(y_test, y_pred)\n",
    "    print(f\"\\n{name} Results:\")\n",
    "    print(f\"Accuracy: {acc:.4f} | Precision: {prec:.4f} | Recall: {rec:.4f} | F1 Score: {f1:.4f}\")\n",
    "    print(\"Classification Report:\\n\", classification_report(y_test, y_pred))\n",
    "    return acc"
   ]
  },
  {
   "cell_type": "markdown",
   "id": "43776c32",
   "metadata": {},
   "source": [
    "### Linear SVM Classification"
   ]
  },
  {
   "cell_type": "code",
   "execution_count": 122,
   "id": "6f0bc96f",
   "metadata": {},
   "outputs": [],
   "source": [
    "svm_classifier = LinearSVC()"
   ]
  },
  {
   "cell_type": "code",
   "execution_count": 123,
   "id": "0062e305",
   "metadata": {},
   "outputs": [
    {
     "name": "stdout",
     "output_type": "stream",
     "text": [
      "Required time for training Linear SVM classifiers:-  0.008074040000792593\n"
     ]
    }
   ],
   "source": [
    "start = timer()\n",
    "svm_tfidf = svm_classifier.fit(X_train_tfidf, ytrain)\n",
    "print('Required time for training Linear SVM classifiers:- ', timer() - start)"
   ]
  },
  {
   "cell_type": "code",
   "execution_count": 124,
   "id": "709032a3",
   "metadata": {},
   "outputs": [
    {
     "name": "stdout",
     "output_type": "stream",
     "text": [
      "\n",
      "Linear SVM Results:\n",
      "Accuracy: 0.8906 | Precision: 0.8991 | Recall: 0.9088 | F1 Score: 0.9039\n",
      "Classification Report:\n",
      "               precision    recall  f1-score   support\n",
      "\n",
      "           0       0.88      0.87      0.87       428\n",
      "           1       0.90      0.91      0.90       559\n",
      "\n",
      "    accuracy                           0.89       987\n",
      "   macro avg       0.89      0.89      0.89       987\n",
      "weighted avg       0.89      0.89      0.89       987\n",
      "\n"
     ]
    }
   ],
   "source": [
    "acc_svm = evaluate_model(svm_tfidf, X_test_tfidf, ytest, \"Linear SVM\")"
   ]
  },
  {
   "cell_type": "markdown",
   "id": "b7241692",
   "metadata": {},
   "source": [
    "### Logistic Regression Classification"
   ]
  },
  {
   "cell_type": "code",
   "execution_count": 125,
   "id": "0c164e54",
   "metadata": {},
   "outputs": [],
   "source": [
    "lr_classifier = LogisticRegression(max_iter=1000)"
   ]
  },
  {
   "cell_type": "code",
   "execution_count": 126,
   "id": "590c4ccb",
   "metadata": {},
   "outputs": [
    {
     "name": "stdout",
     "output_type": "stream",
     "text": [
      "Required time for training Logistic Regression classifiers:-  0.03393552299894509\n"
     ]
    }
   ],
   "source": [
    "start = timer()\n",
    "lr_tfidf = lr_classifier.fit(X_train_tfidf, ytrain)\n",
    "print('Required time for training Logistic Regression classifiers:- ', timer() - start)"
   ]
  },
  {
   "cell_type": "code",
   "execution_count": 127,
   "id": "cee98114",
   "metadata": {},
   "outputs": [
    {
     "name": "stdout",
     "output_type": "stream",
     "text": [
      "\n",
      "Logistic Regression Results:\n",
      "Accuracy: 0.8967 | Precision: 0.9073 | Recall: 0.9106 | F1 Score: 0.9089\n",
      "Classification Report:\n",
      "               precision    recall  f1-score   support\n",
      "\n",
      "           0       0.88      0.88      0.88       428\n",
      "           1       0.91      0.91      0.91       559\n",
      "\n",
      "    accuracy                           0.90       987\n",
      "   macro avg       0.89      0.89      0.89       987\n",
      "weighted avg       0.90      0.90      0.90       987\n",
      "\n"
     ]
    }
   ],
   "source": [
    "acc_lr = evaluate_model(lr_tfidf, X_test_tfidf, ytest, \"Logistic Regression\")"
   ]
  },
  {
   "cell_type": "markdown",
   "id": "170f29df",
   "metadata": {},
   "source": [
    "### Multinomial Naive Bayes Classification"
   ]
  },
  {
   "cell_type": "code",
   "execution_count": 128,
   "id": "1953ecab",
   "metadata": {},
   "outputs": [],
   "source": [
    "mnb_classifier = MultinomialNB()"
   ]
  },
  {
   "cell_type": "code",
   "execution_count": 129,
   "id": "6881df01",
   "metadata": {},
   "outputs": [
    {
     "name": "stdout",
     "output_type": "stream",
     "text": [
      "Required time for training Multinomial Naive bayes classifiers:-  0.002368099998420803\n"
     ]
    }
   ],
   "source": [
    "start = timer()\n",
    "mnb_tfidf = mnb_classifier.fit(X_train_tfidf, ytrain)\n",
    "print('Required time for training Multinomial Naive bayes classifiers:- ', timer() - start)"
   ]
  },
  {
   "cell_type": "code",
   "execution_count": 130,
   "id": "1f8f306e",
   "metadata": {},
   "outputs": [
    {
     "name": "stdout",
     "output_type": "stream",
     "text": [
      "\n",
      "Multinomial Naive Bayes Results:\n",
      "Accuracy: 0.9068 | Precision: 0.9238 | Recall: 0.9106 | F1 Score: 0.9171\n",
      "Classification Report:\n",
      "               precision    recall  f1-score   support\n",
      "\n",
      "           0       0.89      0.90      0.89       428\n",
      "           1       0.92      0.91      0.92       559\n",
      "\n",
      "    accuracy                           0.91       987\n",
      "   macro avg       0.90      0.91      0.91       987\n",
      "weighted avg       0.91      0.91      0.91       987\n",
      "\n"
     ]
    }
   ],
   "source": [
    "acc_mnb = evaluate_model(mnb_tfidf, X_test_tfidf, ytest, \"Multinomial Naive Bayes\")"
   ]
  },
  {
   "cell_type": "markdown",
   "id": "1cc072d9",
   "metadata": {},
   "source": [
    "### XGBoost Classification"
   ]
  },
  {
   "cell_type": "code",
   "execution_count": 131,
   "id": "53d1f823",
   "metadata": {},
   "outputs": [],
   "source": [
    "xgb_classifier = XGBClassifier(eval_metric='logloss')"
   ]
  },
  {
   "cell_type": "code",
   "execution_count": 132,
   "id": "32c21bea",
   "metadata": {},
   "outputs": [
    {
     "name": "stdout",
     "output_type": "stream",
     "text": [
      "Required time for training XGBoost classifiers:-  0.8898418250028044\n"
     ]
    }
   ],
   "source": [
    "start = timer()\n",
    "xgb_tfidf = xgb_classifier.fit(X_train_tfidf, ytrain)\n",
    "print('Required time for training XGBoost classifiers:- ', timer() - start)"
   ]
  },
  {
   "cell_type": "code",
   "execution_count": 133,
   "id": "bc057bc4",
   "metadata": {},
   "outputs": [
    {
     "name": "stdout",
     "output_type": "stream",
     "text": [
      "\n",
      "XGBoost Results:\n",
      "Accuracy: 0.8652 | Precision: 0.8660 | Recall: 0.9016 | F1 Score: 0.8834\n",
      "Classification Report:\n",
      "               precision    recall  f1-score   support\n",
      "\n",
      "           0       0.86      0.82      0.84       428\n",
      "           1       0.87      0.90      0.88       559\n",
      "\n",
      "    accuracy                           0.87       987\n",
      "   macro avg       0.87      0.86      0.86       987\n",
      "weighted avg       0.87      0.87      0.86       987\n",
      "\n"
     ]
    }
   ],
   "source": [
    "acc_xgb = evaluate_model(xgb_tfidf, X_test_tfidf, ytest, \"XGBoost\")"
   ]
  },
  {
   "cell_type": "markdown",
   "id": "ef87c878",
   "metadata": {},
   "source": [
    "### Random Forest Classification"
   ]
  },
  {
   "cell_type": "code",
   "execution_count": 134,
   "id": "79d42522",
   "metadata": {},
   "outputs": [],
   "source": [
    "rf_classifier = RandomForestClassifier(n_estimators=150, max_depth=35, max_features='sqrt', min_samples_leaf=4, bootstrap=True, n_jobs=-1)"
   ]
  },
  {
   "cell_type": "code",
   "execution_count": 135,
   "id": "1dc866de",
   "metadata": {},
   "outputs": [
    {
     "name": "stdout",
     "output_type": "stream",
     "text": [
      "Required time for training Random Forest classifiers:-  0.39029318499888177\n"
     ]
    }
   ],
   "source": [
    "start = timer()\n",
    "rf_tfidf = rf_classifier.fit(X_train_tfidf, ytrain)\n",
    "print('Required time for training Random Forest classifiers:- ', timer() - start)"
   ]
  },
  {
   "cell_type": "code",
   "execution_count": 136,
   "id": "64538283",
   "metadata": {},
   "outputs": [
    {
     "name": "stdout",
     "output_type": "stream",
     "text": [
      "\n",
      "Random Forest Results:\n",
      "Accuracy: 0.8501 | Precision: 0.8386 | Recall: 0.9106 | F1 Score: 0.8731\n",
      "Classification Report:\n",
      "               precision    recall  f1-score   support\n",
      "\n",
      "           0       0.87      0.77      0.82       428\n",
      "           1       0.84      0.91      0.87       559\n",
      "\n",
      "    accuracy                           0.85       987\n",
      "   macro avg       0.85      0.84      0.84       987\n",
      "weighted avg       0.85      0.85      0.85       987\n",
      "\n"
     ]
    }
   ],
   "source": [
    "acc_rf = evaluate_model(rf_tfidf, X_test_tfidf, ytest, \"Random Forest\")"
   ]
  },
  {
   "cell_type": "markdown",
   "id": "e130f545",
   "metadata": {},
   "source": [
    "### Model Comparison"
   ]
  },
  {
   "cell_type": "code",
   "execution_count": 137,
   "id": "88c26a42",
   "metadata": {},
   "outputs": [
    {
     "data": {
      "image/png": "[encoded data removed]",
      "text/plain": [
       "<Figure size 1000x600 with 1 Axes>"
      ]
     },
     "metadata": {},
     "output_type": "display_data"
    }
   ],
   "source": [
    "model_names = ['SVM', 'LogReg', 'Multinomial Naive Bayes', 'XGBoost', 'RandomForest']\n",
    "accuracies = [acc_svm, acc_lr, acc_mnb, acc_xgb, acc_rf]\n",
    "\n",
    "plt.figure(figsize=(10, 6))\n",
    "plt.bar(model_names, accuracies)\n",
    "plt.xlabel(\"Models\")\n",
    "plt.ylabel(\"Accuracy\")\n",
    "plt.title(\"Model Accuracy Comparison with TF-IDF\")\n",
    "plt.ylim(0.0, 1.0)\n",
    "plt.grid(axis='y', linestyle='--', alpha=0.7)\n",
    "plt.show()"
   ]
  }
 ],
 "metadata": {
  "kernelspec": {
   "display_name": "py11",
   "language": "python",
   "name": "python3"
  },
  "language_info": {
   "codemirror_mode": {
    "name": "ipython",
    "version": 3
   },
   "file_extension": ".py",
   "mimetype": "text/x-python",
   "name": "python",
   "nbconvert_exporter": "python",
   "pygments_lexer": "ipython3",
   "version": "3.11.13"
  }
 },
 "nbformat": 4,
 "nbformat_minor": 5
}
